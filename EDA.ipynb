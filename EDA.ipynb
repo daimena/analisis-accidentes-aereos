{
 "cells": [
  {
   "cell_type": "code",
   "execution_count": 4,
   "metadata": {},
   "outputs": [],
   "source": [
    "import pandas as pd\n",
    "import re\n",
    "import numpy as np\n",
    "import seaborn as sns\n",
    "import matplotlib.pyplot as plt\n",
    "from wordcloud import WordCloud, STOPWORDS"
   ]
  },
  {
   "cell_type": "markdown",
   "metadata": {},
   "source": [
    "El primer paso sera importar el CSV con los datos a un DataFrame de pandas para poder observarlo y definir los pasos a seguir."
   ]
  },
  {
   "cell_type": "code",
   "execution_count": 5,
   "metadata": {},
   "outputs": [],
   "source": [
    "df = pd.read_csv(\"AccidentesAviones.csv\")"
   ]
  },
  {
   "cell_type": "code",
   "execution_count": 6,
   "metadata": {},
   "outputs": [
    {
     "data": {
      "text/html": [
       "<div>\n",
       "<style scoped>\n",
       "    .dataframe tbody tr th:only-of-type {\n",
       "        vertical-align: middle;\n",
       "    }\n",
       "\n",
       "    .dataframe tbody tr th {\n",
       "        vertical-align: top;\n",
       "    }\n",
       "\n",
       "    .dataframe thead th {\n",
       "        text-align: right;\n",
       "    }\n",
       "</style>\n",
       "<table border=\"1\" class=\"dataframe\">\n",
       "  <thead>\n",
       "    <tr style=\"text-align: right;\">\n",
       "      <th></th>\n",
       "      <th>Unnamed: 0</th>\n",
       "      <th>fecha</th>\n",
       "      <th>HORA declarada</th>\n",
       "      <th>Ruta</th>\n",
       "      <th>OperadOR</th>\n",
       "      <th>flight_no</th>\n",
       "      <th>route</th>\n",
       "      <th>ac_type</th>\n",
       "      <th>registration</th>\n",
       "      <th>cn_ln</th>\n",
       "      <th>all_aboard</th>\n",
       "      <th>PASAJEROS A BORDO</th>\n",
       "      <th>crew_aboard</th>\n",
       "      <th>cantidad de fallecidos</th>\n",
       "      <th>passenger_fatalities</th>\n",
       "      <th>crew_fatalities</th>\n",
       "      <th>ground</th>\n",
       "      <th>summary</th>\n",
       "    </tr>\n",
       "  </thead>\n",
       "  <tbody>\n",
       "    <tr>\n",
       "      <th>0</th>\n",
       "      <td>0</td>\n",
       "      <td>September 17, 1908</td>\n",
       "      <td>1718</td>\n",
       "      <td>Fort Myer, Virginia</td>\n",
       "      <td>Military - U.S. Army</td>\n",
       "      <td>?</td>\n",
       "      <td>Demonstration</td>\n",
       "      <td>Wright Flyer III</td>\n",
       "      <td>?</td>\n",
       "      <td>1</td>\n",
       "      <td>2</td>\n",
       "      <td>1</td>\n",
       "      <td>1</td>\n",
       "      <td>1</td>\n",
       "      <td>1</td>\n",
       "      <td>0</td>\n",
       "      <td>0</td>\n",
       "      <td>During a demonstration flight, a U.S. Army fly...</td>\n",
       "    </tr>\n",
       "    <tr>\n",
       "      <th>1</th>\n",
       "      <td>1</td>\n",
       "      <td>September 07, 1909</td>\n",
       "      <td>?</td>\n",
       "      <td>Juvisy-sur-Orge, France</td>\n",
       "      <td>?</td>\n",
       "      <td>?</td>\n",
       "      <td>Air show</td>\n",
       "      <td>Wright Byplane</td>\n",
       "      <td>SC1</td>\n",
       "      <td>?</td>\n",
       "      <td>1</td>\n",
       "      <td>0</td>\n",
       "      <td>1</td>\n",
       "      <td>1</td>\n",
       "      <td>0</td>\n",
       "      <td>0</td>\n",
       "      <td>0</td>\n",
       "      <td>Eugene Lefebvre was the first pilot to ever be...</td>\n",
       "    </tr>\n",
       "    <tr>\n",
       "      <th>2</th>\n",
       "      <td>2</td>\n",
       "      <td>July 12, 1912</td>\n",
       "      <td>0630</td>\n",
       "      <td>Atlantic City, New Jersey</td>\n",
       "      <td>Military - U.S. Navy</td>\n",
       "      <td>?</td>\n",
       "      <td>Test flight</td>\n",
       "      <td>Dirigible</td>\n",
       "      <td>?</td>\n",
       "      <td>?</td>\n",
       "      <td>5</td>\n",
       "      <td>0</td>\n",
       "      <td>5</td>\n",
       "      <td>5</td>\n",
       "      <td>0</td>\n",
       "      <td>5</td>\n",
       "      <td>0</td>\n",
       "      <td>First U.S. dirigible Akron exploded just offsh...</td>\n",
       "    </tr>\n",
       "    <tr>\n",
       "      <th>3</th>\n",
       "      <td>3</td>\n",
       "      <td>August 06, 1913</td>\n",
       "      <td>?</td>\n",
       "      <td>Victoria, British Columbia, Canada</td>\n",
       "      <td>Private</td>\n",
       "      <td>?</td>\n",
       "      <td>?</td>\n",
       "      <td>Curtiss seaplane</td>\n",
       "      <td>?</td>\n",
       "      <td>?</td>\n",
       "      <td>1</td>\n",
       "      <td>0</td>\n",
       "      <td>1</td>\n",
       "      <td>1</td>\n",
       "      <td>0</td>\n",
       "      <td>1</td>\n",
       "      <td>0</td>\n",
       "      <td>The first fatal airplane accident in Canada oc...</td>\n",
       "    </tr>\n",
       "    <tr>\n",
       "      <th>4</th>\n",
       "      <td>4</td>\n",
       "      <td>September 09, 1913</td>\n",
       "      <td>1830</td>\n",
       "      <td>Over the North Sea</td>\n",
       "      <td>Military - German Navy</td>\n",
       "      <td>?</td>\n",
       "      <td>?</td>\n",
       "      <td>Zeppelin L-1 (airship)</td>\n",
       "      <td>?</td>\n",
       "      <td>?</td>\n",
       "      <td>20</td>\n",
       "      <td>?</td>\n",
       "      <td>?</td>\n",
       "      <td>14</td>\n",
       "      <td>?</td>\n",
       "      <td>?</td>\n",
       "      <td>0</td>\n",
       "      <td>The airship flew into a thunderstorm and encou...</td>\n",
       "    </tr>\n",
       "    <tr>\n",
       "      <th>...</th>\n",
       "      <td>...</td>\n",
       "      <td>...</td>\n",
       "      <td>...</td>\n",
       "      <td>...</td>\n",
       "      <td>...</td>\n",
       "      <td>...</td>\n",
       "      <td>...</td>\n",
       "      <td>...</td>\n",
       "      <td>...</td>\n",
       "      <td>...</td>\n",
       "      <td>...</td>\n",
       "      <td>...</td>\n",
       "      <td>...</td>\n",
       "      <td>...</td>\n",
       "      <td>...</td>\n",
       "      <td>...</td>\n",
       "      <td>...</td>\n",
       "      <td>...</td>\n",
       "    </tr>\n",
       "    <tr>\n",
       "      <th>5003</th>\n",
       "      <td>5003</td>\n",
       "      <td>March 28, 2021</td>\n",
       "      <td>1835</td>\n",
       "      <td>Near Butte, Alaska</td>\n",
       "      <td>Soloy Helicopters</td>\n",
       "      <td>?</td>\n",
       "      <td>Sightseeing Charter</td>\n",
       "      <td>Eurocopter AS350B3 Ecureuil</td>\n",
       "      <td>N351SH</td>\n",
       "      <td>4598</td>\n",
       "      <td>6</td>\n",
       "      <td>5</td>\n",
       "      <td>1</td>\n",
       "      <td>5</td>\n",
       "      <td>4</td>\n",
       "      <td>1</td>\n",
       "      <td>0</td>\n",
       "      <td>The sightseeing helicopter crashed after missi...</td>\n",
       "    </tr>\n",
       "    <tr>\n",
       "      <th>5004</th>\n",
       "      <td>5004</td>\n",
       "      <td>May 21, 2021</td>\n",
       "      <td>1800</td>\n",
       "      <td>Near Kaduna, Nigeria</td>\n",
       "      <td>Military - Nigerian Air Force</td>\n",
       "      <td>?</td>\n",
       "      <td>?</td>\n",
       "      <td>Beechcraft B300 King Air 350i</td>\n",
       "      <td>NAF203</td>\n",
       "      <td>FL-891</td>\n",
       "      <td>11</td>\n",
       "      <td>7</td>\n",
       "      <td>4</td>\n",
       "      <td>11</td>\n",
       "      <td>7</td>\n",
       "      <td>4</td>\n",
       "      <td>0</td>\n",
       "      <td>While on final approach, in poor weather condi...</td>\n",
       "    </tr>\n",
       "    <tr>\n",
       "      <th>5005</th>\n",
       "      <td>5005</td>\n",
       "      <td>June 10, 2021</td>\n",
       "      <td>0800</td>\n",
       "      <td>Near Pyin Oo Lwin, Myanmar</td>\n",
       "      <td>Military - Myanmar Air Force</td>\n",
       "      <td>?</td>\n",
       "      <td>Naypyidaw - Anisakan</td>\n",
       "      <td>Beechcraft 1900D</td>\n",
       "      <td>4610</td>\n",
       "      <td>E-325</td>\n",
       "      <td>14</td>\n",
       "      <td>12</td>\n",
       "      <td>2</td>\n",
       "      <td>12</td>\n",
       "      <td>11</td>\n",
       "      <td>1</td>\n",
       "      <td>0</td>\n",
       "      <td>The plane was carrying military personnel and ...</td>\n",
       "    </tr>\n",
       "    <tr>\n",
       "      <th>5006</th>\n",
       "      <td>5006</td>\n",
       "      <td>July 04, 2021</td>\n",
       "      <td>11:30</td>\n",
       "      <td>Patikul, Sulu, Philippines</td>\n",
       "      <td>Military - Philippine Air Force</td>\n",
       "      <td>?</td>\n",
       "      <td>Cagayan de Oro-Lumbia - Jolo</td>\n",
       "      <td>Lockheed C-130H Hercules</td>\n",
       "      <td>5125</td>\n",
       "      <td>5125</td>\n",
       "      <td>96</td>\n",
       "      <td>88</td>\n",
       "      <td>8</td>\n",
       "      <td>50</td>\n",
       "      <td>?</td>\n",
       "      <td>?</td>\n",
       "      <td>3</td>\n",
       "      <td>While attempting to land at Jolo Airport, the ...</td>\n",
       "    </tr>\n",
       "    <tr>\n",
       "      <th>5007</th>\n",
       "      <td>5007</td>\n",
       "      <td>July 06, 2021</td>\n",
       "      <td>1500</td>\n",
       "      <td>Palana, Russia</td>\n",
       "      <td>Kamchatka Aviation Enterprise</td>\n",
       "      <td>251</td>\n",
       "      <td>Petropavlovsk - Palana</td>\n",
       "      <td>Antonov An 26B-100</td>\n",
       "      <td>RA-26085</td>\n",
       "      <td>12310</td>\n",
       "      <td>28</td>\n",
       "      <td>22</td>\n",
       "      <td>6</td>\n",
       "      <td>28</td>\n",
       "      <td>22</td>\n",
       "      <td>6</td>\n",
       "      <td>0</td>\n",
       "      <td>The passenger plane crashed into the top of a ...</td>\n",
       "    </tr>\n",
       "  </tbody>\n",
       "</table>\n",
       "<p>5008 rows × 18 columns</p>\n",
       "</div>"
      ],
      "text/plain": [
       "      Unnamed: 0               fecha HORA declarada  \\\n",
       "0              0  September 17, 1908           1718   \n",
       "1              1  September 07, 1909              ?   \n",
       "2              2       July 12, 1912           0630   \n",
       "3              3     August 06, 1913              ?   \n",
       "4              4  September 09, 1913           1830   \n",
       "...          ...                 ...            ...   \n",
       "5003        5003      March 28, 2021           1835   \n",
       "5004        5004        May 21, 2021           1800   \n",
       "5005        5005       June 10, 2021           0800   \n",
       "5006        5006       July 04, 2021          11:30   \n",
       "5007        5007       July 06, 2021           1500   \n",
       "\n",
       "                                    Ruta                         OperadOR  \\\n",
       "0                    Fort Myer, Virginia             Military - U.S. Army   \n",
       "1                Juvisy-sur-Orge, France                                ?   \n",
       "2              Atlantic City, New Jersey             Military - U.S. Navy   \n",
       "3     Victoria, British Columbia, Canada                          Private   \n",
       "4                     Over the North Sea           Military - German Navy   \n",
       "...                                  ...                              ...   \n",
       "5003                  Near Butte, Alaska                Soloy Helicopters   \n",
       "5004                Near Kaduna, Nigeria    Military - Nigerian Air Force   \n",
       "5005          Near Pyin Oo Lwin, Myanmar     Military - Myanmar Air Force   \n",
       "5006          Patikul, Sulu, Philippines  Military - Philippine Air Force   \n",
       "5007                      Palana, Russia    Kamchatka Aviation Enterprise   \n",
       "\n",
       "     flight_no                         route                        ac_type  \\\n",
       "0            ?                 Demonstration               Wright Flyer III   \n",
       "1            ?                      Air show                 Wright Byplane   \n",
       "2            ?                   Test flight                      Dirigible   \n",
       "3            ?                             ?               Curtiss seaplane   \n",
       "4            ?                             ?         Zeppelin L-1 (airship)   \n",
       "...        ...                           ...                            ...   \n",
       "5003         ?           Sightseeing Charter    Eurocopter AS350B3 Ecureuil   \n",
       "5004         ?                             ?  Beechcraft B300 King Air 350i   \n",
       "5005         ?          Naypyidaw - Anisakan               Beechcraft 1900D   \n",
       "5006         ?  Cagayan de Oro-Lumbia - Jolo       Lockheed C-130H Hercules   \n",
       "5007       251        Petropavlovsk - Palana             Antonov An 26B-100   \n",
       "\n",
       "     registration   cn_ln all_aboard PASAJEROS A BORDO crew_aboard  \\\n",
       "0               ?       1          2                 1           1   \n",
       "1             SC1       ?          1                 0           1   \n",
       "2               ?       ?          5                 0           5   \n",
       "3               ?       ?          1                 0           1   \n",
       "4               ?       ?         20                 ?           ?   \n",
       "...           ...     ...        ...               ...         ...   \n",
       "5003       N351SH    4598          6                 5           1   \n",
       "5004       NAF203  FL-891         11                 7           4   \n",
       "5005         4610   E-325         14                12           2   \n",
       "5006         5125    5125         96                88           8   \n",
       "5007     RA-26085   12310         28                22           6   \n",
       "\n",
       "     cantidad de fallecidos passenger_fatalities crew_fatalities ground  \\\n",
       "0                         1                    1               0      0   \n",
       "1                         1                    0               0      0   \n",
       "2                         5                    0               5      0   \n",
       "3                         1                    0               1      0   \n",
       "4                        14                    ?               ?      0   \n",
       "...                     ...                  ...             ...    ...   \n",
       "5003                      5                    4               1      0   \n",
       "5004                     11                    7               4      0   \n",
       "5005                     12                   11               1      0   \n",
       "5006                     50                    ?               ?      3   \n",
       "5007                     28                   22               6      0   \n",
       "\n",
       "                                                summary  \n",
       "0     During a demonstration flight, a U.S. Army fly...  \n",
       "1     Eugene Lefebvre was the first pilot to ever be...  \n",
       "2     First U.S. dirigible Akron exploded just offsh...  \n",
       "3     The first fatal airplane accident in Canada oc...  \n",
       "4     The airship flew into a thunderstorm and encou...  \n",
       "...                                                 ...  \n",
       "5003  The sightseeing helicopter crashed after missi...  \n",
       "5004  While on final approach, in poor weather condi...  \n",
       "5005  The plane was carrying military personnel and ...  \n",
       "5006  While attempting to land at Jolo Airport, the ...  \n",
       "5007  The passenger plane crashed into the top of a ...  \n",
       "\n",
       "[5008 rows x 18 columns]"
      ]
     },
     "execution_count": 6,
     "metadata": {},
     "output_type": "execute_result"
    }
   ],
   "source": [
    "df"
   ]
  },
  {
   "cell_type": "code",
   "execution_count": 7,
   "metadata": {},
   "outputs": [
    {
     "data": {
      "text/plain": [
       "Unnamed: 0                 int64\n",
       "fecha                     object\n",
       "HORA declarada            object\n",
       "Ruta                      object\n",
       "OperadOR                  object\n",
       "flight_no                 object\n",
       "route                     object\n",
       "ac_type                   object\n",
       "registration              object\n",
       "cn_ln                     object\n",
       "all_aboard                object\n",
       "PASAJEROS A BORDO         object\n",
       "crew_aboard               object\n",
       "cantidad de fallecidos    object\n",
       "passenger_fatalities      object\n",
       "crew_fatalities           object\n",
       "ground                    object\n",
       "summary                   object\n",
       "dtype: object"
      ]
     },
     "execution_count": 7,
     "metadata": {},
     "output_type": "execute_result"
    }
   ],
   "source": [
    "df.dtypes"
   ]
  },
  {
   "cell_type": "markdown",
   "metadata": {},
   "source": [
    "Haciendo una primera inspeccion de los datos, se ven varios problemas generales de la tabla:\n",
    "- no unanimidad de idiomas en los nombres de las columnas\n",
    "- no esta claro el contenido de algunas columnas\n",
    "- hay valores faltantes\n",
    "- no hay uniformidad de formatos en algunas columnas\n",
    "\n",
    "Por lo tanto, procederemos a realizar una inspeccion mas minuciosa, columna por columna para intentar resolver estos problemas."
   ]
  },
  {
   "cell_type": "markdown",
   "metadata": {},
   "source": [
    "# Columna 'Unnamed'"
   ]
  },
  {
   "cell_type": "code",
   "execution_count": 8,
   "metadata": {},
   "outputs": [
    {
     "data": {
      "text/plain": [
       "5008"
      ]
     },
     "execution_count": 8,
     "metadata": {},
     "output_type": "execute_result"
    }
   ],
   "source": [
    "df['Unnamed: 0'].nunique()"
   ]
  },
  {
   "cell_type": "markdown",
   "metadata": {},
   "source": [
    "Al ver que coinciden los valores unicos de la columna con la cantidad total de filas, esta columna podria ser el indice o identificador de casos."
   ]
  },
  {
   "cell_type": "code",
   "execution_count": 9,
   "metadata": {},
   "outputs": [],
   "source": [
    "df.rename(columns={'Unnamed: 0': 'id'}, inplace=True)"
   ]
  },
  {
   "cell_type": "markdown",
   "metadata": {},
   "source": [
    "# Columna 'fecha'"
   ]
  },
  {
   "cell_type": "code",
   "execution_count": 10,
   "metadata": {},
   "outputs": [
    {
     "data": {
      "text/plain": [
       "fecha\n",
       "August 31, 1988       4\n",
       "September 11, 2001    4\n",
       "February 23, 1945     3\n",
       "December 28, 1946     3\n",
       "August 27, 1992       3\n",
       "                     ..\n",
       "December 04, 1958     1\n",
       "December 23, 1958     1\n",
       "December 24, 1958     1\n",
       "December 26, 1958     1\n",
       "July 06, 2021         1\n",
       "Name: count, Length: 4577, dtype: int64"
      ]
     },
     "execution_count": 10,
     "metadata": {},
     "output_type": "execute_result"
    }
   ],
   "source": [
    "df['fecha'].value_counts()"
   ]
  },
  {
   "cell_type": "markdown",
   "metadata": {},
   "source": [
    "Corresponde a la fecha del accidente pero se encuentra en un formato inconveniente para realizar consultas, por lo tanto los vamos a convertir al formato 'datetime'"
   ]
  },
  {
   "cell_type": "code",
   "execution_count": 11,
   "metadata": {},
   "outputs": [
    {
     "data": {
      "text/plain": [
       "0      1908-09-17\n",
       "1      1909-09-07\n",
       "2      1912-07-12\n",
       "3      1913-08-06\n",
       "4      1913-09-09\n",
       "          ...    \n",
       "5003   2021-03-28\n",
       "5004   2021-05-21\n",
       "5005   2021-06-10\n",
       "5006   2021-07-04\n",
       "5007   2021-07-06\n",
       "Name: fecha, Length: 5008, dtype: datetime64[ns]"
      ]
     },
     "execution_count": 11,
     "metadata": {},
     "output_type": "execute_result"
    }
   ],
   "source": [
    "df['fecha'] = pd.to_datetime(df['fecha'])\n",
    "df['fecha']"
   ]
  },
  {
   "cell_type": "markdown",
   "metadata": {},
   "source": [
    "Ademas, para facilitar el analisis, crearemos dos columnas: 'año' y 'decada' que eventualmente permitiran agrupar los casos."
   ]
  },
  {
   "cell_type": "code",
   "execution_count": 12,
   "metadata": {},
   "outputs": [],
   "source": [
    "df['año'] = df.apply(lambda f: f['fecha'].year, axis=1)\n",
    "\n",
    "df['decada'] = df.apply(lambda f: (f['fecha'].year // 10) * 10, axis=1)"
   ]
  },
  {
   "cell_type": "markdown",
   "metadata": {},
   "source": [
    "# Columna 'HORA declarada'"
   ]
  },
  {
   "cell_type": "code",
   "execution_count": 13,
   "metadata": {},
   "outputs": [
    {
     "data": {
      "text/plain": [
       "HORA declarada\n",
       "?       1504\n",
       "1500      35\n",
       "1400      30\n",
       "1100      30\n",
       "1700      29\n",
       "        ... \n",
       "2129       1\n",
       "1002       1\n",
       "1151       1\n",
       "0909       1\n",
       "1914       1\n",
       "Name: count, Length: 1217, dtype: int64"
      ]
     },
     "execution_count": 13,
     "metadata": {},
     "output_type": "execute_result"
    }
   ],
   "source": [
    "df['HORA declarada'].value_counts()"
   ]
  },
  {
   "cell_type": "markdown",
   "metadata": {},
   "source": [
    "Corresponde a la hora del accidente y hay varios problemas:\n",
    "- diferencias de formato\n",
    "- datos faltantes (30% de la columna) que no figuran como nulos, sino como '?'\n",
    "- no se aclara que zona horaria se toma.\n",
    "\n",
    "Respecto a este ultimo punto, investigando acerca de 2 de los accidentes listado, encuentro que la hora corresponde a la local, por lo tanto, asumo que el resto de los datos mantienen el criterio."
   ]
  },
  {
   "cell_type": "code",
   "execution_count": 14,
   "metadata": {},
   "outputs": [],
   "source": [
    "df.rename(columns={'HORA declarada': 'hora_decl'}, inplace= True)"
   ]
  },
  {
   "cell_type": "code",
   "execution_count": 15,
   "metadata": {},
   "outputs": [],
   "source": [
    "def formatear_hora(hora):\n",
    "    # Defino una funcion para unificar el formato de la hora que recibe un valor y lo convierte al formato hhmm.\n",
    "    # Los valores nulos que se encuentran registrados como '?' son convertidos a NaN.\n",
    "    hora = str(hora)\n",
    "    resultado = re.search(\"(\\d{2}):?(\\d{2})\", hora)\n",
    "    if resultado is not None:\n",
    "        return str(resultado.group(1) + resultado.group(2))\n",
    "    elif hora == '?':\n",
    "        return np.nan"
   ]
  },
  {
   "cell_type": "code",
   "execution_count": 16,
   "metadata": {},
   "outputs": [],
   "source": [
    "df['hora_decl'] = df.apply(lambda f: formatear_hora(f['hora_decl']), axis=1)"
   ]
  },
  {
   "cell_type": "markdown",
   "metadata": {},
   "source": [
    "Queda pendiente definir que hacer con los valores nulos. Una opcion podria ser buscarlos en la informacion de la columna 'summary'. Pero al ser tantos, se vuelve un esfuerzo muy grande para un dato del que no conocemos aun su relevancia en el analisis."
   ]
  },
  {
   "cell_type": "markdown",
   "metadata": {},
   "source": [
    "# Columna 'Ruta'"
   ]
  },
  {
   "cell_type": "code",
   "execution_count": 17,
   "metadata": {},
   "outputs": [
    {
     "data": {
      "text/plain": [
       "Ruta\n",
       "Moscow, Russia                                         16\n",
       "Manila, Philippines                                    15\n",
       "New York, New York                                     14\n",
       "Sao Paulo, Brazil                                      13\n",
       "Cairo, Egypt                                           13\n",
       "                                                       ..\n",
       "NAS Argentia, Placentia Bay,  Newfoundland,  Canada     1\n",
       "Anzio, Italy                                            1\n",
       "Nipe Bay, Cuba                                          1\n",
       "Near Roccatamburo di Poggiodomo, Italy                  1\n",
       "Palana, Russia                                          1\n",
       "Name: count, Length: 4125, dtype: int64"
      ]
     },
     "execution_count": 17,
     "metadata": {},
     "output_type": "execute_result"
    }
   ],
   "source": [
    "df['Ruta'].value_counts()"
   ]
  },
  {
   "cell_type": "markdown",
   "metadata": {},
   "source": [
    "En primera instancia no se entiende a que corresponde este dato, podria ser el origen o el destino del vuelo.\n",
    "Realizando una investigacion mas exhaustiva de algunos casos, encuentro que coincide con el lugar del accidente, que en algunos casos coincide con el origen o el destino y en otros no. Por lo tanto, renombro la columna."
   ]
  },
  {
   "cell_type": "code",
   "execution_count": 18,
   "metadata": {},
   "outputs": [],
   "source": [
    "df.rename(columns={'Ruta': 'lugar_accidente'}, inplace= True)"
   ]
  },
  {
   "cell_type": "markdown",
   "metadata": {},
   "source": [
    "Chequeo la presencia de valores faltantes y, al ser pocos, los analizo uno a uno."
   ]
  },
  {
   "cell_type": "code",
   "execution_count": 19,
   "metadata": {},
   "outputs": [
    {
     "data": {
      "text/html": [
       "<div>\n",
       "<style scoped>\n",
       "    .dataframe tbody tr th:only-of-type {\n",
       "        vertical-align: middle;\n",
       "    }\n",
       "\n",
       "    .dataframe tbody tr th {\n",
       "        vertical-align: top;\n",
       "    }\n",
       "\n",
       "    .dataframe thead th {\n",
       "        text-align: right;\n",
       "    }\n",
       "</style>\n",
       "<table border=\"1\" class=\"dataframe\">\n",
       "  <thead>\n",
       "    <tr style=\"text-align: right;\">\n",
       "      <th></th>\n",
       "      <th>id</th>\n",
       "      <th>fecha</th>\n",
       "      <th>hora_decl</th>\n",
       "      <th>lugar_accidente</th>\n",
       "      <th>OperadOR</th>\n",
       "      <th>flight_no</th>\n",
       "      <th>route</th>\n",
       "      <th>ac_type</th>\n",
       "      <th>registration</th>\n",
       "      <th>cn_ln</th>\n",
       "      <th>all_aboard</th>\n",
       "      <th>PASAJEROS A BORDO</th>\n",
       "      <th>crew_aboard</th>\n",
       "      <th>cantidad de fallecidos</th>\n",
       "      <th>passenger_fatalities</th>\n",
       "      <th>crew_fatalities</th>\n",
       "      <th>ground</th>\n",
       "      <th>summary</th>\n",
       "      <th>año</th>\n",
       "      <th>decada</th>\n",
       "    </tr>\n",
       "  </thead>\n",
       "  <tbody>\n",
       "    <tr>\n",
       "      <th>360</th>\n",
       "      <td>360</td>\n",
       "      <td>1934-12-31</td>\n",
       "      <td>NaN</td>\n",
       "      <td>?</td>\n",
       "      <td>Aeroflot</td>\n",
       "      <td>?</td>\n",
       "      <td>?</td>\n",
       "      <td>Tupolev ANT-9</td>\n",
       "      <td>?</td>\n",
       "      <td>?</td>\n",
       "      <td>10</td>\n",
       "      <td>8</td>\n",
       "      <td>2</td>\n",
       "      <td>10</td>\n",
       "      <td>8</td>\n",
       "      <td>2</td>\n",
       "      <td>0</td>\n",
       "      <td>Crashed under unknown circumstances.</td>\n",
       "      <td>1934</td>\n",
       "      <td>1930</td>\n",
       "    </tr>\n",
       "    <tr>\n",
       "      <th>465</th>\n",
       "      <td>465</td>\n",
       "      <td>1937-06-20</td>\n",
       "      <td>NaN</td>\n",
       "      <td>?</td>\n",
       "      <td>ENTA</td>\n",
       "      <td>?</td>\n",
       "      <td>San José  San Isidro de El General</td>\n",
       "      <td>Travel Air 6000</td>\n",
       "      <td>TI-3</td>\n",
       "      <td>?</td>\n",
       "      <td>6</td>\n",
       "      <td>5</td>\n",
       "      <td>1</td>\n",
       "      <td>6</td>\n",
       "      <td>5</td>\n",
       "      <td>1</td>\n",
       "      <td>?</td>\n",
       "      <td>Hit trees and crashed in an isolated area loca...</td>\n",
       "      <td>1937</td>\n",
       "      <td>1930</td>\n",
       "    </tr>\n",
       "    <tr>\n",
       "      <th>646</th>\n",
       "      <td>646</td>\n",
       "      <td>1942-08-21</td>\n",
       "      <td>NaN</td>\n",
       "      <td>?</td>\n",
       "      <td>Deutsche Lufthansa</td>\n",
       "      <td>?</td>\n",
       "      <td>?</td>\n",
       "      <td>Siebel Si-204</td>\n",
       "      <td>?</td>\n",
       "      <td>?</td>\n",
       "      <td>4</td>\n",
       "      <td>2</td>\n",
       "      <td>2</td>\n",
       "      <td>4</td>\n",
       "      <td>2</td>\n",
       "      <td>2</td>\n",
       "      <td>0</td>\n",
       "      <td>Lufthansa chairman, Von Gablenz killed.</td>\n",
       "      <td>1942</td>\n",
       "      <td>1940</td>\n",
       "    </tr>\n",
       "    <tr>\n",
       "      <th>999</th>\n",
       "      <td>999</td>\n",
       "      <td>1947-11-27</td>\n",
       "      <td>NaN</td>\n",
       "      <td>?</td>\n",
       "      <td>China National Aviation Corporation</td>\n",
       "      <td>?</td>\n",
       "      <td>?</td>\n",
       "      <td>Douglas DC-3</td>\n",
       "      <td>?</td>\n",
       "      <td>?</td>\n",
       "      <td>3</td>\n",
       "      <td>0</td>\n",
       "      <td>3</td>\n",
       "      <td>2</td>\n",
       "      <td>0</td>\n",
       "      <td>2</td>\n",
       "      <td>0</td>\n",
       "      <td>The cargo plane was shot down by communist ant...</td>\n",
       "      <td>1947</td>\n",
       "      <td>1940</td>\n",
       "    </tr>\n",
       "    <tr>\n",
       "      <th>2895</th>\n",
       "      <td>2895</td>\n",
       "      <td>1977-01-20</td>\n",
       "      <td>NaN</td>\n",
       "      <td>?</td>\n",
       "      <td>North Canada Air</td>\n",
       "      <td>?</td>\n",
       "      <td>?</td>\n",
       "      <td>Bristol 170 Freighter 31M</td>\n",
       "      <td>C-FWAD</td>\n",
       "      <td>13253</td>\n",
       "      <td>2</td>\n",
       "      <td>0</td>\n",
       "      <td>2</td>\n",
       "      <td>1</td>\n",
       "      <td>0</td>\n",
       "      <td>1</td>\n",
       "      <td>0</td>\n",
       "      <td>The cargo plane stalled nearly vertical and cr...</td>\n",
       "      <td>1977</td>\n",
       "      <td>1970</td>\n",
       "    </tr>\n",
       "  </tbody>\n",
       "</table>\n",
       "</div>"
      ],
      "text/plain": [
       "        id      fecha hora_decl lugar_accidente  \\\n",
       "360    360 1934-12-31       NaN               ?   \n",
       "465    465 1937-06-20       NaN               ?   \n",
       "646    646 1942-08-21       NaN               ?   \n",
       "999    999 1947-11-27       NaN               ?   \n",
       "2895  2895 1977-01-20       NaN               ?   \n",
       "\n",
       "                                 OperadOR flight_no  \\\n",
       "360                              Aeroflot         ?   \n",
       "465                                  ENTA         ?   \n",
       "646                    Deutsche Lufthansa         ?   \n",
       "999   China National Aviation Corporation         ?   \n",
       "2895                     North Canada Air         ?   \n",
       "\n",
       "                                   route                    ac_type  \\\n",
       "360                                    ?              Tupolev ANT-9   \n",
       "465   San José  San Isidro de El General            Travel Air 6000   \n",
       "646                                    ?              Siebel Si-204   \n",
       "999                                    ?               Douglas DC-3   \n",
       "2895                                   ?  Bristol 170 Freighter 31M   \n",
       "\n",
       "     registration  cn_ln all_aboard PASAJEROS A BORDO crew_aboard  \\\n",
       "360             ?      ?         10                 8           2   \n",
       "465          TI-3      ?          6                 5           1   \n",
       "646             ?      ?          4                 2           2   \n",
       "999             ?      ?          3                 0           3   \n",
       "2895       C-FWAD  13253          2                 0           2   \n",
       "\n",
       "     cantidad de fallecidos passenger_fatalities crew_fatalities ground  \\\n",
       "360                      10                    8               2      0   \n",
       "465                       6                    5               1      ?   \n",
       "646                       4                    2               2      0   \n",
       "999                       2                    0               2      0   \n",
       "2895                      1                    0               1      0   \n",
       "\n",
       "                                                summary   año  decada  \n",
       "360                Crashed under unknown circumstances.  1934    1930  \n",
       "465   Hit trees and crashed in an isolated area loca...  1937    1930  \n",
       "646             Lufthansa chairman, Von Gablenz killed.  1942    1940  \n",
       "999   The cargo plane was shot down by communist ant...  1947    1940  \n",
       "2895  The cargo plane stalled nearly vertical and cr...  1977    1970  "
      ]
     },
     "execution_count": 19,
     "metadata": {},
     "output_type": "execute_result"
    }
   ],
   "source": [
    "df.loc[df['lugar_accidente'] == '?']"
   ]
  },
  {
   "cell_type": "markdown",
   "metadata": {},
   "source": [
    "Para el id 465, encuentro en la columna 'summary' que el lugar del accidente es Cerro las vueltas, San Jose, Costa Rica.\n",
    "\n",
    "Para el resto de los valores faltantes, las otras columnas no aportan informacion relevante."
   ]
  },
  {
   "cell_type": "code",
   "execution_count": 20,
   "metadata": {},
   "outputs": [],
   "source": [
    "df.loc[df['id'] == 465, ['lugar_accidente']] = 'Cerro las vueltas, San Jose, Costa Rica'"
   ]
  },
  {
   "cell_type": "code",
   "execution_count": 21,
   "metadata": {},
   "outputs": [],
   "source": [
    "df['lugar_accidente'].replace('?', np.nan, inplace=True)"
   ]
  },
  {
   "cell_type": "markdown",
   "metadata": {},
   "source": [
    "# Columna 'OperadOR'"
   ]
  },
  {
   "cell_type": "code",
   "execution_count": 22,
   "metadata": {},
   "outputs": [
    {
     "data": {
      "text/plain": [
       "OperadOR\n",
       "Aeroflot                            253\n",
       "Military - U.S. Air Force           141\n",
       "Air France                           74\n",
       "Deutsche Lufthansa                   63\n",
       "United Air Lines                     44\n",
       "                                   ... \n",
       "Sierra Pacific Airlines               1\n",
       "Pathet Lao Airlines                   1\n",
       "Military - West German Air Force      1\n",
       "Cessnyca                              1\n",
       "Kamchatka Aviation Enterprise         1\n",
       "Name: count, Length: 2268, dtype: int64"
      ]
     },
     "execution_count": 22,
     "metadata": {},
     "output_type": "execute_result"
    }
   ],
   "source": [
    "df['OperadOR'].value_counts()"
   ]
  },
  {
   "cell_type": "markdown",
   "metadata": {},
   "source": [
    "Corresponde a la empresa operadora del vuelo. Cambio el nombre de la columna."
   ]
  },
  {
   "cell_type": "code",
   "execution_count": 23,
   "metadata": {},
   "outputs": [],
   "source": [
    "df.rename(columns={'OperadOR': 'empresa_operadora'}, inplace= True)"
   ]
  },
  {
   "cell_type": "code",
   "execution_count": 24,
   "metadata": {},
   "outputs": [
    {
     "data": {
      "text/plain": [
       "10"
      ]
     },
     "execution_count": 24,
     "metadata": {},
     "output_type": "execute_result"
    }
   ],
   "source": [
    "df['empresa_operadora'].value_counts()['?']"
   ]
  },
  {
   "cell_type": "markdown",
   "metadata": {},
   "source": [
    "Chequeo la presencia de valores faltantes y, al ser pocos, los reviso uno a uno."
   ]
  },
  {
   "cell_type": "code",
   "execution_count": 25,
   "metadata": {},
   "outputs": [
    {
     "data": {
      "text/html": [
       "<div>\n",
       "<style scoped>\n",
       "    .dataframe tbody tr th:only-of-type {\n",
       "        vertical-align: middle;\n",
       "    }\n",
       "\n",
       "    .dataframe tbody tr th {\n",
       "        vertical-align: top;\n",
       "    }\n",
       "\n",
       "    .dataframe thead th {\n",
       "        text-align: right;\n",
       "    }\n",
       "</style>\n",
       "<table border=\"1\" class=\"dataframe\">\n",
       "  <thead>\n",
       "    <tr style=\"text-align: right;\">\n",
       "      <th></th>\n",
       "      <th>id</th>\n",
       "      <th>fecha</th>\n",
       "      <th>hora_decl</th>\n",
       "      <th>lugar_accidente</th>\n",
       "      <th>empresa_operadora</th>\n",
       "      <th>flight_no</th>\n",
       "      <th>route</th>\n",
       "      <th>ac_type</th>\n",
       "      <th>registration</th>\n",
       "      <th>cn_ln</th>\n",
       "      <th>all_aboard</th>\n",
       "      <th>PASAJEROS A BORDO</th>\n",
       "      <th>crew_aboard</th>\n",
       "      <th>cantidad de fallecidos</th>\n",
       "      <th>passenger_fatalities</th>\n",
       "      <th>crew_fatalities</th>\n",
       "      <th>ground</th>\n",
       "      <th>summary</th>\n",
       "      <th>año</th>\n",
       "      <th>decada</th>\n",
       "    </tr>\n",
       "  </thead>\n",
       "  <tbody>\n",
       "    <tr>\n",
       "      <th>1</th>\n",
       "      <td>1</td>\n",
       "      <td>1909-09-07</td>\n",
       "      <td>NaN</td>\n",
       "      <td>Juvisy-sur-Orge, France</td>\n",
       "      <td>?</td>\n",
       "      <td>?</td>\n",
       "      <td>Air show</td>\n",
       "      <td>Wright Byplane</td>\n",
       "      <td>SC1</td>\n",
       "      <td>?</td>\n",
       "      <td>1</td>\n",
       "      <td>0</td>\n",
       "      <td>1</td>\n",
       "      <td>1</td>\n",
       "      <td>0</td>\n",
       "      <td>0</td>\n",
       "      <td>0</td>\n",
       "      <td>Eugene Lefebvre was the first pilot to ever be...</td>\n",
       "      <td>1909</td>\n",
       "      <td>1900</td>\n",
       "    </tr>\n",
       "    <tr>\n",
       "      <th>17</th>\n",
       "      <td>17</td>\n",
       "      <td>1917-06-17</td>\n",
       "      <td>NaN</td>\n",
       "      <td>Near Yarmouth, England</td>\n",
       "      <td>?</td>\n",
       "      <td>?</td>\n",
       "      <td>?</td>\n",
       "      <td>Zepplin L-48 (air ship)</td>\n",
       "      <td>L-48</td>\n",
       "      <td>?</td>\n",
       "      <td>16</td>\n",
       "      <td>?</td>\n",
       "      <td>?</td>\n",
       "      <td>14</td>\n",
       "      <td>?</td>\n",
       "      <td>?</td>\n",
       "      <td>0</td>\n",
       "      <td>Shot down by aircraft.</td>\n",
       "      <td>1917</td>\n",
       "      <td>1910</td>\n",
       "    </tr>\n",
       "    <tr>\n",
       "      <th>67</th>\n",
       "      <td>67</td>\n",
       "      <td>1922-04-08</td>\n",
       "      <td>NaN</td>\n",
       "      <td>Pao Ting Fou, China</td>\n",
       "      <td>?</td>\n",
       "      <td>?</td>\n",
       "      <td>Test</td>\n",
       "      <td>?</td>\n",
       "      <td>?</td>\n",
       "      <td>?</td>\n",
       "      <td>17</td>\n",
       "      <td>0</td>\n",
       "      <td>17</td>\n",
       "      <td>17</td>\n",
       "      <td>0</td>\n",
       "      <td>17</td>\n",
       "      <td>0</td>\n",
       "      <td>Aboard were all workers taking part in a fligh...</td>\n",
       "      <td>1922</td>\n",
       "      <td>1920</td>\n",
       "    </tr>\n",
       "    <tr>\n",
       "      <th>69</th>\n",
       "      <td>69</td>\n",
       "      <td>1922-07-04</td>\n",
       "      <td>NaN</td>\n",
       "      <td>Fuhlsbuttel, Germany</td>\n",
       "      <td>?</td>\n",
       "      <td>?</td>\n",
       "      <td>Hamburg - Berlin</td>\n",
       "      <td>LVG C VI</td>\n",
       "      <td>?</td>\n",
       "      <td>?</td>\n",
       "      <td>3</td>\n",
       "      <td>2</td>\n",
       "      <td>1</td>\n",
       "      <td>2</td>\n",
       "      <td>1</td>\n",
       "      <td>1</td>\n",
       "      <td>0</td>\n",
       "      <td>The passenger/mail plane lost it's engine whil...</td>\n",
       "      <td>1922</td>\n",
       "      <td>1920</td>\n",
       "    </tr>\n",
       "    <tr>\n",
       "      <th>114</th>\n",
       "      <td>114</td>\n",
       "      <td>1926-09-26</td>\n",
       "      <td>NaN</td>\n",
       "      <td>New York, New York</td>\n",
       "      <td>?</td>\n",
       "      <td>?</td>\n",
       "      <td>New York - Paris</td>\n",
       "      <td>Sikorsky S-25</td>\n",
       "      <td>?</td>\n",
       "      <td>?</td>\n",
       "      <td>5</td>\n",
       "      <td>4</td>\n",
       "      <td>1</td>\n",
       "      <td>2</td>\n",
       "      <td>2</td>\n",
       "      <td>0</td>\n",
       "      <td>0</td>\n",
       "      <td>Too much weight caused the landing gear to col...</td>\n",
       "      <td>1926</td>\n",
       "      <td>1920</td>\n",
       "    </tr>\n",
       "    <tr>\n",
       "      <th>376</th>\n",
       "      <td>376</td>\n",
       "      <td>1935-05-29</td>\n",
       "      <td>NaN</td>\n",
       "      <td>San Barbra, Honduras</td>\n",
       "      <td>?</td>\n",
       "      <td>?</td>\n",
       "      <td>?</td>\n",
       "      <td>?</td>\n",
       "      <td>?</td>\n",
       "      <td>?</td>\n",
       "      <td>9</td>\n",
       "      <td>?</td>\n",
       "      <td>?</td>\n",
       "      <td>6</td>\n",
       "      <td>?</td>\n",
       "      <td>?</td>\n",
       "      <td>0</td>\n",
       "      <td>Crashed into the Ulua River.</td>\n",
       "      <td>1935</td>\n",
       "      <td>1930</td>\n",
       "    </tr>\n",
       "    <tr>\n",
       "      <th>684</th>\n",
       "      <td>684</td>\n",
       "      <td>1943-07-04</td>\n",
       "      <td>2300</td>\n",
       "      <td>Gibraltar</td>\n",
       "      <td>?</td>\n",
       "      <td>?</td>\n",
       "      <td>?</td>\n",
       "      <td>Consolidated Liberator B24 C</td>\n",
       "      <td>A-L-523</td>\n",
       "      <td>?</td>\n",
       "      <td>13</td>\n",
       "      <td>?</td>\n",
       "      <td>?</td>\n",
       "      <td>12</td>\n",
       "      <td>?</td>\n",
       "      <td>?</td>\n",
       "      <td>0</td>\n",
       "      <td>The flight, bound for London, crashed into the...</td>\n",
       "      <td>1943</td>\n",
       "      <td>1940</td>\n",
       "    </tr>\n",
       "    <tr>\n",
       "      <th>859</th>\n",
       "      <td>859</td>\n",
       "      <td>1946-04-08</td>\n",
       "      <td>NaN</td>\n",
       "      <td>Near Shensi, China</td>\n",
       "      <td>?</td>\n",
       "      <td>?</td>\n",
       "      <td>Shensi - Yenan</td>\n",
       "      <td>?</td>\n",
       "      <td>?</td>\n",
       "      <td>?</td>\n",
       "      <td>14</td>\n",
       "      <td>11</td>\n",
       "      <td>3</td>\n",
       "      <td>14</td>\n",
       "      <td>11</td>\n",
       "      <td>3</td>\n",
       "      <td>0</td>\n",
       "      <td>?</td>\n",
       "      <td>1946</td>\n",
       "      <td>1940</td>\n",
       "    </tr>\n",
       "    <tr>\n",
       "      <th>2061</th>\n",
       "      <td>2061</td>\n",
       "      <td>1963-09-02</td>\n",
       "      <td>NaN</td>\n",
       "      <td>Northeast Laos</td>\n",
       "      <td>?</td>\n",
       "      <td>?</td>\n",
       "      <td>?</td>\n",
       "      <td>Curtiss C-46 Commando</td>\n",
       "      <td>?</td>\n",
       "      <td>?</td>\n",
       "      <td>16</td>\n",
       "      <td>13</td>\n",
       "      <td>3</td>\n",
       "      <td>15</td>\n",
       "      <td>12</td>\n",
       "      <td>3</td>\n",
       "      <td>?</td>\n",
       "      <td>Refugee flight.</td>\n",
       "      <td>1963</td>\n",
       "      <td>1960</td>\n",
       "    </tr>\n",
       "    <tr>\n",
       "      <th>4830</th>\n",
       "      <td>4830</td>\n",
       "      <td>2011-12-26</td>\n",
       "      <td>0554</td>\n",
       "      <td>Green Grove, Florida</td>\n",
       "      <td>?</td>\n",
       "      <td>?</td>\n",
       "      <td>Jacksonville, FL - Gainsville, FL</td>\n",
       "      <td>Bell 206B</td>\n",
       "      <td>N5016M</td>\n",
       "      <td>2636</td>\n",
       "      <td>3</td>\n",
       "      <td>2</td>\n",
       "      <td>1</td>\n",
       "      <td>3</td>\n",
       "      <td>2</td>\n",
       "      <td>1</td>\n",
       "      <td>0</td>\n",
       "      <td>The on-demand air taxi was on a flight to proc...</td>\n",
       "      <td>2011</td>\n",
       "      <td>2010</td>\n",
       "    </tr>\n",
       "  </tbody>\n",
       "</table>\n",
       "</div>"
      ],
      "text/plain": [
       "        id      fecha hora_decl          lugar_accidente empresa_operadora  \\\n",
       "1        1 1909-09-07       NaN  Juvisy-sur-Orge, France                 ?   \n",
       "17      17 1917-06-17       NaN   Near Yarmouth, England                 ?   \n",
       "67      67 1922-04-08       NaN      Pao Ting Fou, China                 ?   \n",
       "69      69 1922-07-04       NaN     Fuhlsbuttel, Germany                 ?   \n",
       "114    114 1926-09-26       NaN       New York, New York                 ?   \n",
       "376    376 1935-05-29       NaN     San Barbra, Honduras                 ?   \n",
       "684    684 1943-07-04      2300                Gibraltar                 ?   \n",
       "859    859 1946-04-08       NaN       Near Shensi, China                 ?   \n",
       "2061  2061 1963-09-02       NaN           Northeast Laos                 ?   \n",
       "4830  4830 2011-12-26      0554     Green Grove, Florida                 ?   \n",
       "\n",
       "     flight_no                              route  \\\n",
       "1            ?                           Air show   \n",
       "17           ?                                  ?   \n",
       "67           ?                               Test   \n",
       "69           ?                   Hamburg - Berlin   \n",
       "114          ?                   New York - Paris   \n",
       "376          ?                                  ?   \n",
       "684          ?                                  ?   \n",
       "859          ?                     Shensi - Yenan   \n",
       "2061         ?                                  ?   \n",
       "4830         ?  Jacksonville, FL - Gainsville, FL   \n",
       "\n",
       "                           ac_type registration cn_ln all_aboard  \\\n",
       "1                   Wright Byplane          SC1     ?          1   \n",
       "17         Zepplin L-48 (air ship)         L-48     ?         16   \n",
       "67                               ?            ?     ?         17   \n",
       "69                        LVG C VI            ?     ?          3   \n",
       "114                  Sikorsky S-25            ?     ?          5   \n",
       "376                              ?            ?     ?          9   \n",
       "684   Consolidated Liberator B24 C      A-L-523     ?         13   \n",
       "859                              ?            ?     ?         14   \n",
       "2061         Curtiss C-46 Commando            ?     ?         16   \n",
       "4830                     Bell 206B       N5016M  2636          3   \n",
       "\n",
       "     PASAJEROS A BORDO crew_aboard cantidad de fallecidos  \\\n",
       "1                    0           1                      1   \n",
       "17                   ?           ?                     14   \n",
       "67                   0          17                     17   \n",
       "69                   2           1                      2   \n",
       "114                  4           1                      2   \n",
       "376                  ?           ?                      6   \n",
       "684                  ?           ?                     12   \n",
       "859                 11           3                     14   \n",
       "2061                13           3                     15   \n",
       "4830                 2           1                      3   \n",
       "\n",
       "     passenger_fatalities crew_fatalities ground  \\\n",
       "1                       0               0      0   \n",
       "17                      ?               ?      0   \n",
       "67                      0              17      0   \n",
       "69                      1               1      0   \n",
       "114                     2               0      0   \n",
       "376                     ?               ?      0   \n",
       "684                     ?               ?      0   \n",
       "859                    11               3      0   \n",
       "2061                   12               3      ?   \n",
       "4830                    2               1      0   \n",
       "\n",
       "                                                summary   año  decada  \n",
       "1     Eugene Lefebvre was the first pilot to ever be...  1909    1900  \n",
       "17                               Shot down by aircraft.  1917    1910  \n",
       "67    Aboard were all workers taking part in a fligh...  1922    1920  \n",
       "69    The passenger/mail plane lost it's engine whil...  1922    1920  \n",
       "114   Too much weight caused the landing gear to col...  1926    1920  \n",
       "376                        Crashed into the Ulua River.  1935    1930  \n",
       "684   The flight, bound for London, crashed into the...  1943    1940  \n",
       "859                                                   ?  1946    1940  \n",
       "2061                                    Refugee flight.  1963    1960  \n",
       "4830  The on-demand air taxi was on a flight to proc...  2011    2010  "
      ]
     },
     "execution_count": 25,
     "metadata": {},
     "output_type": "execute_result"
    }
   ],
   "source": [
    "df.loc[df['empresa_operadora'] == '?']"
   ]
  },
  {
   "cell_type": "markdown",
   "metadata": {},
   "source": [
    "Las otras columanas no brindan informacion relevante para los valores faltantes, los asigno como NaN."
   ]
  },
  {
   "cell_type": "code",
   "execution_count": 26,
   "metadata": {},
   "outputs": [],
   "source": [
    "df['empresa_operadora'].replace('?', np.nan, inplace=True)"
   ]
  },
  {
   "cell_type": "markdown",
   "metadata": {},
   "source": [
    "# Columna 'flight_no'"
   ]
  },
  {
   "cell_type": "code",
   "execution_count": 27,
   "metadata": {},
   "outputs": [
    {
     "data": {
      "text/plain": [
       "flight_no\n",
       "?        3682\n",
       "-          36\n",
       "1          11\n",
       "101         9\n",
       "6           7\n",
       "         ... \n",
       "138         1\n",
       "124         1\n",
       "1-10        1\n",
       "4422        1\n",
       "SJ182       1\n",
       "Name: count, Length: 893, dtype: int64"
      ]
     },
     "execution_count": 27,
     "metadata": {},
     "output_type": "execute_result"
    }
   ],
   "source": [
    "df['flight_no'].value_counts()"
   ]
  },
  {
   "cell_type": "markdown",
   "metadata": {},
   "source": [
    "El dato corresponde al numero de vuelo.\n",
    "\n",
    "Encontramos muchos valores faltantes, esto podria deberse a que probablemente los vuelos mas antiguos registrados no tuvieran asignado un numero de vuelo.\n",
    "Cambio el nombre de la columna y designo a los faltantes como NaN."
   ]
  },
  {
   "cell_type": "code",
   "execution_count": 28,
   "metadata": {},
   "outputs": [],
   "source": [
    "df['flight_no'].replace('?', np.nan, inplace=True)"
   ]
  },
  {
   "cell_type": "code",
   "execution_count": 29,
   "metadata": {},
   "outputs": [],
   "source": [
    "df.rename(columns={'flight_no': 'nro_vuelo'}, inplace= True)"
   ]
  },
  {
   "cell_type": "markdown",
   "metadata": {},
   "source": [
    "# Columna 'route'"
   ]
  },
  {
   "cell_type": "code",
   "execution_count": 30,
   "metadata": {},
   "outputs": [
    {
     "data": {
      "text/plain": [
       "route\n",
       "?                                       762\n",
       "Training                                 96\n",
       "Sightseeing                              31\n",
       "Test flight                              23\n",
       "Sao Paulo - Rio de Janeiro                7\n",
       "                                       ... \n",
       "Prague - Zurich                           1\n",
       "Temuco - Santiago                         1\n",
       "Hong Kong - Tainan AFB                    1\n",
       "Fort Lamy, Chad - Marseilles, France      1\n",
       "Petropavlovsk - Palana                    1\n",
       "Name: count, Length: 3838, dtype: int64"
      ]
     },
     "execution_count": 30,
     "metadata": {},
     "output_type": "execute_result"
    }
   ],
   "source": [
    "df['route'].value_counts()"
   ]
  },
  {
   "cell_type": "markdown",
   "metadata": {},
   "source": [
    "El dato corresponde a la ruta del vuelo, con origen y destino separados con un guion. Cuando corresponden a paises diferentes, estan en formato 'ciudad de origen, pais de origen - ciudad de destino, pais de destino'.\n",
    "Esto podria estar en dos columnas: una de origen y otra de destino.\n",
    "Por otro lado, algunos vuelos no poseen una ruta y en su lugar indican el objetivo del vuelo (por ejemplo, 'Test flight' o 'Demostration'). En ese caso, este dato no deberia estar en esta columna sino en otra.\n",
    "Ademas, hay valores faltantes, que podrian deberse a vuelos sin ruta como los mencionados en el item anterior."
   ]
  },
  {
   "cell_type": "code",
   "execution_count": 31,
   "metadata": {},
   "outputs": [],
   "source": [
    "df['route'].replace('?', np.nan, inplace=True)"
   ]
  },
  {
   "cell_type": "code",
   "execution_count": 32,
   "metadata": {},
   "outputs": [],
   "source": [
    "df.rename(columns={'route': 'origen-destino'}, inplace= True)"
   ]
  },
  {
   "cell_type": "markdown",
   "metadata": {},
   "source": [
    "# Columna 'ac_type'"
   ]
  },
  {
   "cell_type": "code",
   "execution_count": 33,
   "metadata": {},
   "outputs": [
    {
     "data": {
      "text/plain": [
       "ac_type\n",
       "Douglas DC-3                                333\n",
       "de Havilland Canada DHC-6 Twin Otter 300     81\n",
       "Douglas C-47A                                70\n",
       "Douglas C-47                                 64\n",
       "Douglas DC-4                                 41\n",
       "                                           ... \n",
       "Vickers Viscount 759D                         1\n",
       "H-21B                                         1\n",
       "Avro 685 York C1                              1\n",
       "Piper PA-24-250 Comanche                      1\n",
       "Antonov An 26B-100                            1\n",
       "Name: count, Length: 2469, dtype: int64"
      ]
     },
     "execution_count": 33,
     "metadata": {},
     "output_type": "execute_result"
    }
   ],
   "source": [
    "df['ac_type'].value_counts()"
   ]
  },
  {
   "cell_type": "markdown",
   "metadata": {},
   "source": [
    "El dato corresponde al tipo de aeronave. cambio el nombre de la columna y defino como Nan los valores faltantes."
   ]
  },
  {
   "cell_type": "code",
   "execution_count": 34,
   "metadata": {},
   "outputs": [],
   "source": [
    "df.rename(columns={'ac_type': 'tipo_aeronave'}, inplace= True)"
   ]
  },
  {
   "cell_type": "code",
   "execution_count": 35,
   "metadata": {},
   "outputs": [],
   "source": [
    "df['tipo_aeronave'].replace('?', np.nan, inplace=True)"
   ]
  },
  {
   "cell_type": "markdown",
   "metadata": {},
   "source": [
    "# Columna 'registration'"
   ]
  },
  {
   "cell_type": "code",
   "execution_count": 36,
   "metadata": {},
   "outputs": [
    {
     "data": {
      "text/plain": [
       "registration\n",
       "?             272\n",
       "49              3\n",
       "SU-AFK          2\n",
       "2               2\n",
       "19              2\n",
       "             ... \n",
       "CCCP-61663      1\n",
       "EC-ANR          1\n",
       "N1301N          1\n",
       "CS-THB          1\n",
       "RA-26085        1\n",
       "Name: count, Length: 4701, dtype: int64"
      ]
     },
     "execution_count": 36,
     "metadata": {},
     "output_type": "execute_result"
    }
   ],
   "source": [
    "df['registration'].value_counts()"
   ]
  },
  {
   "cell_type": "markdown",
   "metadata": {},
   "source": [
    "Corresponde al numero de registro o matricula de la aeronave. Cambio el nombre de la columna y defino como Nan los valores  faltantes."
   ]
  },
  {
   "cell_type": "code",
   "execution_count": 37,
   "metadata": {},
   "outputs": [],
   "source": [
    "df['registration'].replace('?', np.nan, inplace=True)"
   ]
  },
  {
   "cell_type": "code",
   "execution_count": 38,
   "metadata": {},
   "outputs": [
    {
     "data": {
      "text/html": [
       "<div>\n",
       "<style scoped>\n",
       "    .dataframe tbody tr th:only-of-type {\n",
       "        vertical-align: middle;\n",
       "    }\n",
       "\n",
       "    .dataframe tbody tr th {\n",
       "        vertical-align: top;\n",
       "    }\n",
       "\n",
       "    .dataframe thead th {\n",
       "        text-align: right;\n",
       "    }\n",
       "</style>\n",
       "<table border=\"1\" class=\"dataframe\">\n",
       "  <thead>\n",
       "    <tr style=\"text-align: right;\">\n",
       "      <th></th>\n",
       "      <th>id</th>\n",
       "      <th>fecha</th>\n",
       "      <th>hora_decl</th>\n",
       "      <th>lugar_accidente</th>\n",
       "      <th>empresa_operadora</th>\n",
       "      <th>nro_vuelo</th>\n",
       "      <th>origen-destino</th>\n",
       "      <th>tipo_aeronave</th>\n",
       "      <th>matricula_aeronave</th>\n",
       "      <th>cn_ln</th>\n",
       "      <th>all_aboard</th>\n",
       "      <th>PASAJEROS A BORDO</th>\n",
       "      <th>crew_aboard</th>\n",
       "      <th>cantidad de fallecidos</th>\n",
       "      <th>passenger_fatalities</th>\n",
       "      <th>crew_fatalities</th>\n",
       "      <th>ground</th>\n",
       "      <th>summary</th>\n",
       "      <th>año</th>\n",
       "      <th>decada</th>\n",
       "    </tr>\n",
       "  </thead>\n",
       "  <tbody>\n",
       "    <tr>\n",
       "      <th>0</th>\n",
       "      <td>0</td>\n",
       "      <td>1908-09-17</td>\n",
       "      <td>1718</td>\n",
       "      <td>Fort Myer, Virginia</td>\n",
       "      <td>Military - U.S. Army</td>\n",
       "      <td>NaN</td>\n",
       "      <td>Demonstration</td>\n",
       "      <td>Wright Flyer III</td>\n",
       "      <td>NaN</td>\n",
       "      <td>1</td>\n",
       "      <td>2</td>\n",
       "      <td>1</td>\n",
       "      <td>1</td>\n",
       "      <td>1</td>\n",
       "      <td>1</td>\n",
       "      <td>0</td>\n",
       "      <td>0</td>\n",
       "      <td>During a demonstration flight, a U.S. Army fly...</td>\n",
       "      <td>1908</td>\n",
       "      <td>1900</td>\n",
       "    </tr>\n",
       "  </tbody>\n",
       "</table>\n",
       "</div>"
      ],
      "text/plain": [
       "   id      fecha hora_decl      lugar_accidente     empresa_operadora  \\\n",
       "0   0 1908-09-17      1718  Fort Myer, Virginia  Military - U.S. Army   \n",
       "\n",
       "  nro_vuelo origen-destino     tipo_aeronave matricula_aeronave cn_ln  \\\n",
       "0       NaN  Demonstration  Wright Flyer III                NaN     1   \n",
       "\n",
       "  all_aboard PASAJEROS A BORDO crew_aboard cantidad de fallecidos  \\\n",
       "0          2                 1           1                      1   \n",
       "\n",
       "  passenger_fatalities crew_fatalities ground  \\\n",
       "0                    1               0      0   \n",
       "\n",
       "                                             summary   año  decada  \n",
       "0  During a demonstration flight, a U.S. Army fly...  1908    1900  "
      ]
     },
     "execution_count": 38,
     "metadata": {},
     "output_type": "execute_result"
    }
   ],
   "source": [
    "df.rename(columns={'registration': 'matricula_aeronave'}, inplace= True)\n",
    "df.head(1)"
   ]
  },
  {
   "cell_type": "markdown",
   "metadata": {},
   "source": [
    "# Columna 'cn_ln'"
   ]
  },
  {
   "cell_type": "code",
   "execution_count": 39,
   "metadata": {},
   "outputs": [
    {
     "data": {
      "text/plain": [
       "cn_ln\n",
       "?        667\n",
       "1          8\n",
       "4          8\n",
       "125        7\n",
       "229        6\n",
       "        ... \n",
       "068        1\n",
       "1142       1\n",
       "43559      1\n",
       "10182      1\n",
       "12310      1\n",
       "Name: count, Length: 3908, dtype: int64"
      ]
     },
     "execution_count": 39,
     "metadata": {},
     "output_type": "execute_result"
    }
   ],
   "source": [
    "df['cn_ln'].value_counts()"
   ]
  },
  {
   "cell_type": "markdown",
   "metadata": {},
   "source": [
    "Corresponde al numero de construccion (\"construction number\" en ingles, o \"cn\") y al numero de linea (\"line number\", o \"ln\"). Son identificadores del modelo de aeronave y su fabricacion.\n",
    "Cambio el nomnbre de la columna y defino como Nan los valores faltantes."
   ]
  },
  {
   "cell_type": "code",
   "execution_count": 40,
   "metadata": {},
   "outputs": [],
   "source": [
    "df['cn_ln'].replace('?', np.nan, inplace=True)"
   ]
  },
  {
   "cell_type": "code",
   "execution_count": 41,
   "metadata": {},
   "outputs": [],
   "source": [
    "df.rename(columns={'cn_ln': 'nc_nl'}, inplace= True)"
   ]
  },
  {
   "cell_type": "markdown",
   "metadata": {},
   "source": [
    "# Columnas 'all_aboard', 'PASAJEROS A BORDO' Y 'crew_aboard'"
   ]
  },
  {
   "cell_type": "code",
   "execution_count": 42,
   "metadata": {},
   "outputs": [
    {
     "data": {
      "text/plain": [
       "all_aboard\n",
       "3      280\n",
       "2      246\n",
       "4      202\n",
       "5      190\n",
       "10     179\n",
       "      ... \n",
       "256      1\n",
       "524      1\n",
       "329      1\n",
       "274      1\n",
       "190      1\n",
       "Name: count, Length: 245, dtype: int64"
      ]
     },
     "execution_count": 42,
     "metadata": {},
     "output_type": "execute_result"
    }
   ],
   "source": [
    "df['all_aboard'].value_counts()"
   ]
  },
  {
   "cell_type": "markdown",
   "metadata": {},
   "source": [
    "Corresponde al total de personas a bordo. Deberia corresponder a la suma de las columnas 'PASAJEROS A BORDO' y 'crew' a bordo. Utilizaremos estos datos para imputar los faltantes en caso que se pueda."
   ]
  },
  {
   "cell_type": "code",
   "execution_count": 43,
   "metadata": {},
   "outputs": [],
   "source": [
    "df.rename(columns={'all_aboard': 'total_a_bordo'}, inplace= True)"
   ]
  },
  {
   "cell_type": "code",
   "execution_count": 44,
   "metadata": {},
   "outputs": [],
   "source": [
    "df.rename(columns={'PASAJEROS A BORDO': 'pasajeros', 'crew_aboard': 'tripulacion'}, inplace= True)"
   ]
  },
  {
   "cell_type": "code",
   "execution_count": 45,
   "metadata": {},
   "outputs": [
    {
     "data": {
      "text/html": [
       "<div>\n",
       "<style scoped>\n",
       "    .dataframe tbody tr th:only-of-type {\n",
       "        vertical-align: middle;\n",
       "    }\n",
       "\n",
       "    .dataframe tbody tr th {\n",
       "        vertical-align: top;\n",
       "    }\n",
       "\n",
       "    .dataframe thead th {\n",
       "        text-align: right;\n",
       "    }\n",
       "</style>\n",
       "<table border=\"1\" class=\"dataframe\">\n",
       "  <thead>\n",
       "    <tr style=\"text-align: right;\">\n",
       "      <th></th>\n",
       "      <th>id</th>\n",
       "      <th>fecha</th>\n",
       "      <th>hora_decl</th>\n",
       "      <th>lugar_accidente</th>\n",
       "      <th>empresa_operadora</th>\n",
       "      <th>nro_vuelo</th>\n",
       "      <th>origen-destino</th>\n",
       "      <th>tipo_aeronave</th>\n",
       "      <th>matricula_aeronave</th>\n",
       "      <th>nc_nl</th>\n",
       "      <th>total_a_bordo</th>\n",
       "      <th>pasajeros</th>\n",
       "      <th>tripulacion</th>\n",
       "      <th>cantidad de fallecidos</th>\n",
       "      <th>passenger_fatalities</th>\n",
       "      <th>crew_fatalities</th>\n",
       "      <th>ground</th>\n",
       "      <th>summary</th>\n",
       "      <th>año</th>\n",
       "      <th>decada</th>\n",
       "    </tr>\n",
       "  </thead>\n",
       "  <tbody>\n",
       "    <tr>\n",
       "      <th>4</th>\n",
       "      <td>4</td>\n",
       "      <td>1913-09-09</td>\n",
       "      <td>1830</td>\n",
       "      <td>Over the North Sea</td>\n",
       "      <td>Military - German Navy</td>\n",
       "      <td>NaN</td>\n",
       "      <td>NaN</td>\n",
       "      <td>Zeppelin L-1 (airship)</td>\n",
       "      <td>NaN</td>\n",
       "      <td>NaN</td>\n",
       "      <td>20</td>\n",
       "      <td>?</td>\n",
       "      <td>?</td>\n",
       "      <td>14</td>\n",
       "      <td>?</td>\n",
       "      <td>?</td>\n",
       "      <td>0</td>\n",
       "      <td>The airship flew into a thunderstorm and encou...</td>\n",
       "      <td>1913</td>\n",
       "      <td>1910</td>\n",
       "    </tr>\n",
       "    <tr>\n",
       "      <th>5</th>\n",
       "      <td>5</td>\n",
       "      <td>1913-10-17</td>\n",
       "      <td>1030</td>\n",
       "      <td>Near Johannisthal, Germany</td>\n",
       "      <td>Military - German Navy</td>\n",
       "      <td>NaN</td>\n",
       "      <td>NaN</td>\n",
       "      <td>Zeppelin L-2 (airship)</td>\n",
       "      <td>NaN</td>\n",
       "      <td>NaN</td>\n",
       "      <td>28</td>\n",
       "      <td>?</td>\n",
       "      <td>?</td>\n",
       "      <td>28</td>\n",
       "      <td>?</td>\n",
       "      <td>?</td>\n",
       "      <td>0</td>\n",
       "      <td>Hydrogen gas which was being vented was sucked...</td>\n",
       "      <td>1913</td>\n",
       "      <td>1910</td>\n",
       "    </tr>\n",
       "    <tr>\n",
       "      <th>7</th>\n",
       "      <td>7</td>\n",
       "      <td>1915-09-03</td>\n",
       "      <td>1520</td>\n",
       "      <td>Off Cuxhaven, Germany</td>\n",
       "      <td>Military - German Navy</td>\n",
       "      <td>NaN</td>\n",
       "      <td>NaN</td>\n",
       "      <td>Zeppelin L-10 (airship)</td>\n",
       "      <td>NaN</td>\n",
       "      <td>NaN</td>\n",
       "      <td>19</td>\n",
       "      <td>?</td>\n",
       "      <td>?</td>\n",
       "      <td>19</td>\n",
       "      <td>?</td>\n",
       "      <td>?</td>\n",
       "      <td>0</td>\n",
       "      <td>Exploded and burned near Neuwerk Island,  when...</td>\n",
       "      <td>1915</td>\n",
       "      <td>1910</td>\n",
       "    </tr>\n",
       "    <tr>\n",
       "      <th>8</th>\n",
       "      <td>8</td>\n",
       "      <td>1916-07-28</td>\n",
       "      <td>NaN</td>\n",
       "      <td>Near Jambol, Bulgeria</td>\n",
       "      <td>Military - German Army</td>\n",
       "      <td>NaN</td>\n",
       "      <td>NaN</td>\n",
       "      <td>Schutte-Lanz S-L-10 (airship)</td>\n",
       "      <td>NaN</td>\n",
       "      <td>NaN</td>\n",
       "      <td>20</td>\n",
       "      <td>?</td>\n",
       "      <td>?</td>\n",
       "      <td>20</td>\n",
       "      <td>?</td>\n",
       "      <td>?</td>\n",
       "      <td>0</td>\n",
       "      <td>Crashed near the Black Sea, cause unknown.</td>\n",
       "      <td>1916</td>\n",
       "      <td>1910</td>\n",
       "    </tr>\n",
       "    <tr>\n",
       "      <th>9</th>\n",
       "      <td>9</td>\n",
       "      <td>1916-09-24</td>\n",
       "      <td>0100</td>\n",
       "      <td>Billericay, England</td>\n",
       "      <td>Military - German Navy</td>\n",
       "      <td>NaN</td>\n",
       "      <td>NaN</td>\n",
       "      <td>Zeppelin L-32 (airship)</td>\n",
       "      <td>NaN</td>\n",
       "      <td>NaN</td>\n",
       "      <td>22</td>\n",
       "      <td>?</td>\n",
       "      <td>?</td>\n",
       "      <td>22</td>\n",
       "      <td>?</td>\n",
       "      <td>?</td>\n",
       "      <td>0</td>\n",
       "      <td>Shot down by British aircraft crashing in flames.</td>\n",
       "      <td>1916</td>\n",
       "      <td>1910</td>\n",
       "    </tr>\n",
       "    <tr>\n",
       "      <th>...</th>\n",
       "      <td>...</td>\n",
       "      <td>...</td>\n",
       "      <td>...</td>\n",
       "      <td>...</td>\n",
       "      <td>...</td>\n",
       "      <td>...</td>\n",
       "      <td>...</td>\n",
       "      <td>...</td>\n",
       "      <td>...</td>\n",
       "      <td>...</td>\n",
       "      <td>...</td>\n",
       "      <td>...</td>\n",
       "      <td>...</td>\n",
       "      <td>...</td>\n",
       "      <td>...</td>\n",
       "      <td>...</td>\n",
       "      <td>...</td>\n",
       "      <td>...</td>\n",
       "      <td>...</td>\n",
       "      <td>...</td>\n",
       "    </tr>\n",
       "    <tr>\n",
       "      <th>4791</th>\n",
       "      <td>4791</td>\n",
       "      <td>2010-11-25</td>\n",
       "      <td>1207</td>\n",
       "      <td>Strezhevoy, Russia</td>\n",
       "      <td>NARZ</td>\n",
       "      <td>NaN</td>\n",
       "      <td>NaN</td>\n",
       "      <td>Mil Mi-8T</td>\n",
       "      <td>RA-22376</td>\n",
       "      <td>7257</td>\n",
       "      <td>10</td>\n",
       "      <td>?</td>\n",
       "      <td>?</td>\n",
       "      <td>7</td>\n",
       "      <td>?</td>\n",
       "      <td>?</td>\n",
       "      <td>0</td>\n",
       "      <td>The helicopter, which was delivering workers t...</td>\n",
       "      <td>2010</td>\n",
       "      <td>2010</td>\n",
       "    </tr>\n",
       "    <tr>\n",
       "      <th>4802</th>\n",
       "      <td>4802</td>\n",
       "      <td>2011-04-19</td>\n",
       "      <td>1357</td>\n",
       "      <td>Tawang, India</td>\n",
       "      <td>Pawan Hans Helicopters Ltd.</td>\n",
       "      <td>NaN</td>\n",
       "      <td>NaN</td>\n",
       "      <td>Mil Mi-172</td>\n",
       "      <td>VT-PHF</td>\n",
       "      <td>356C06</td>\n",
       "      <td>23</td>\n",
       "      <td>?</td>\n",
       "      <td>?</td>\n",
       "      <td>18</td>\n",
       "      <td>?</td>\n",
       "      <td>?</td>\n",
       "      <td>0</td>\n",
       "      <td>The helicopter crashed into a hill as it attem...</td>\n",
       "      <td>2011</td>\n",
       "      <td>2010</td>\n",
       "    </tr>\n",
       "    <tr>\n",
       "      <th>4813</th>\n",
       "      <td>4813</td>\n",
       "      <td>2011-08-06</td>\n",
       "      <td>NaN</td>\n",
       "      <td>Tangi Valley, Afghanistan</td>\n",
       "      <td>Military - U.S. Army</td>\n",
       "      <td>NaN</td>\n",
       "      <td>NaN</td>\n",
       "      <td>Boeing CH-47 Chinook</td>\n",
       "      <td>NaN</td>\n",
       "      <td>NaN</td>\n",
       "      <td>38</td>\n",
       "      <td>?</td>\n",
       "      <td>?</td>\n",
       "      <td>38</td>\n",
       "      <td>?</td>\n",
       "      <td>?</td>\n",
       "      <td>0</td>\n",
       "      <td>Thirty-eight people, including 31 U.S. special...</td>\n",
       "      <td>2011</td>\n",
       "      <td>2010</td>\n",
       "    </tr>\n",
       "    <tr>\n",
       "      <th>4833</th>\n",
       "      <td>4833</td>\n",
       "      <td>2012-03-16</td>\n",
       "      <td>1045</td>\n",
       "      <td>Kabul, Afghanistan</td>\n",
       "      <td>Military - Turkish Army (NATO)</td>\n",
       "      <td>NaN</td>\n",
       "      <td>NaN</td>\n",
       "      <td>Sikorsky S-70A-28</td>\n",
       "      <td>10981</td>\n",
       "      <td>NaN</td>\n",
       "      <td>12</td>\n",
       "      <td>?</td>\n",
       "      <td>?</td>\n",
       "      <td>12</td>\n",
       "      <td>?</td>\n",
       "      <td>?</td>\n",
       "      <td>4</td>\n",
       "      <td>The helicopter crashed on the outskirts of Kab...</td>\n",
       "      <td>2012</td>\n",
       "      <td>2010</td>\n",
       "    </tr>\n",
       "    <tr>\n",
       "      <th>4924</th>\n",
       "      <td>4924</td>\n",
       "      <td>2016-02-02</td>\n",
       "      <td>NaN</td>\n",
       "      <td>Near Mogadishu, Somalia</td>\n",
       "      <td>Daallo Airlines</td>\n",
       "      <td>3159</td>\n",
       "      <td>Mogadishu - Djibouti</td>\n",
       "      <td>Airbus A321-111</td>\n",
       "      <td>SX-BHS</td>\n",
       "      <td>642</td>\n",
       "      <td>72</td>\n",
       "      <td>72</td>\n",
       "      <td>?</td>\n",
       "      <td>1</td>\n",
       "      <td>1</td>\n",
       "      <td>?</td>\n",
       "      <td>0</td>\n",
       "      <td>Shortly after leaving Mogadishu Airport a loud...</td>\n",
       "      <td>2016</td>\n",
       "      <td>2010</td>\n",
       "    </tr>\n",
       "  </tbody>\n",
       "</table>\n",
       "<p>219 rows × 20 columns</p>\n",
       "</div>"
      ],
      "text/plain": [
       "        id      fecha hora_decl             lugar_accidente  \\\n",
       "4        4 1913-09-09      1830          Over the North Sea   \n",
       "5        5 1913-10-17      1030  Near Johannisthal, Germany   \n",
       "7        7 1915-09-03      1520       Off Cuxhaven, Germany   \n",
       "8        8 1916-07-28       NaN       Near Jambol, Bulgeria   \n",
       "9        9 1916-09-24      0100         Billericay, England   \n",
       "...    ...        ...       ...                         ...   \n",
       "4791  4791 2010-11-25      1207          Strezhevoy, Russia   \n",
       "4802  4802 2011-04-19      1357               Tawang, India   \n",
       "4813  4813 2011-08-06       NaN   Tangi Valley, Afghanistan   \n",
       "4833  4833 2012-03-16      1045          Kabul, Afghanistan   \n",
       "4924  4924 2016-02-02       NaN     Near Mogadishu, Somalia   \n",
       "\n",
       "                   empresa_operadora nro_vuelo        origen-destino  \\\n",
       "4             Military - German Navy       NaN                   NaN   \n",
       "5             Military - German Navy       NaN                   NaN   \n",
       "7             Military - German Navy       NaN                   NaN   \n",
       "8             Military - German Army       NaN                   NaN   \n",
       "9             Military - German Navy       NaN                   NaN   \n",
       "...                              ...       ...                   ...   \n",
       "4791                            NARZ       NaN                   NaN   \n",
       "4802     Pawan Hans Helicopters Ltd.       NaN                   NaN   \n",
       "4813            Military - U.S. Army       NaN                   NaN   \n",
       "4833  Military - Turkish Army (NATO)       NaN                   NaN   \n",
       "4924                 Daallo Airlines      3159  Mogadishu - Djibouti   \n",
       "\n",
       "                      tipo_aeronave matricula_aeronave   nc_nl total_a_bordo  \\\n",
       "4            Zeppelin L-1 (airship)                NaN     NaN            20   \n",
       "5            Zeppelin L-2 (airship)                NaN     NaN            28   \n",
       "7           Zeppelin L-10 (airship)                NaN     NaN            19   \n",
       "8     Schutte-Lanz S-L-10 (airship)                NaN     NaN            20   \n",
       "9           Zeppelin L-32 (airship)                NaN     NaN            22   \n",
       "...                             ...                ...     ...           ...   \n",
       "4791                      Mil Mi-8T           RA-22376    7257            10   \n",
       "4802                     Mil Mi-172             VT-PHF  356C06            23   \n",
       "4813           Boeing CH-47 Chinook                NaN     NaN            38   \n",
       "4833              Sikorsky S-70A-28              10981     NaN            12   \n",
       "4924                Airbus A321-111             SX-BHS     642            72   \n",
       "\n",
       "     pasajeros tripulacion cantidad de fallecidos passenger_fatalities  \\\n",
       "4            ?           ?                     14                    ?   \n",
       "5            ?           ?                     28                    ?   \n",
       "7            ?           ?                     19                    ?   \n",
       "8            ?           ?                     20                    ?   \n",
       "9            ?           ?                     22                    ?   \n",
       "...        ...         ...                    ...                  ...   \n",
       "4791         ?           ?                      7                    ?   \n",
       "4802         ?           ?                     18                    ?   \n",
       "4813         ?           ?                     38                    ?   \n",
       "4833         ?           ?                     12                    ?   \n",
       "4924        72           ?                      1                    1   \n",
       "\n",
       "     crew_fatalities ground  \\\n",
       "4                  ?      0   \n",
       "5                  ?      0   \n",
       "7                  ?      0   \n",
       "8                  ?      0   \n",
       "9                  ?      0   \n",
       "...              ...    ...   \n",
       "4791               ?      0   \n",
       "4802               ?      0   \n",
       "4813               ?      0   \n",
       "4833               ?      4   \n",
       "4924               ?      0   \n",
       "\n",
       "                                                summary   año  decada  \n",
       "4     The airship flew into a thunderstorm and encou...  1913    1910  \n",
       "5     Hydrogen gas which was being vented was sucked...  1913    1910  \n",
       "7     Exploded and burned near Neuwerk Island,  when...  1915    1910  \n",
       "8            Crashed near the Black Sea, cause unknown.  1916    1910  \n",
       "9     Shot down by British aircraft crashing in flames.  1916    1910  \n",
       "...                                                 ...   ...     ...  \n",
       "4791  The helicopter, which was delivering workers t...  2010    2010  \n",
       "4802  The helicopter crashed into a hill as it attem...  2011    2010  \n",
       "4813  Thirty-eight people, including 31 U.S. special...  2011    2010  \n",
       "4833  The helicopter crashed on the outskirts of Kab...  2012    2010  \n",
       "4924  Shortly after leaving Mogadishu Airport a loud...  2016    2010  \n",
       "\n",
       "[219 rows x 20 columns]"
      ]
     },
     "execution_count": 45,
     "metadata": {},
     "output_type": "execute_result"
    }
   ],
   "source": [
    "df.loc[df['tripulacion'] == '?']"
   ]
  },
  {
   "cell_type": "code",
   "execution_count": 46,
   "metadata": {},
   "outputs": [],
   "source": [
    "df['total_a_bordo'].replace('?', np.nan, inplace=True)\n",
    "df['total_a_bordo'] = pd.to_numeric(df['total_a_bordo'])\n"
   ]
  },
  {
   "cell_type": "code",
   "execution_count": 47,
   "metadata": {},
   "outputs": [],
   "source": [
    "df['pasajeros'].replace('?', np.nan, inplace=True)\n",
    "df['pasajeros'] = pd.to_numeric(df['pasajeros'])\n",
    "\n",
    "df['tripulacion'].replace('?', np.nan, inplace=True)\n",
    "df['tripulacion'] = pd.to_numeric(df['tripulacion'])\n"
   ]
  },
  {
   "cell_type": "markdown",
   "metadata": {},
   "source": [
    "Reemplazo los valores faltantes '?' por Nan, para poder convertir las columnas a numericas.\n",
    "Por otro lado, los faltantes son demasiados para verlos uno a uno por lo que procedo a analizarlos teniendo en cuenta:\n",
    "- cuantos casos hay en los que todas estas columnas falten\n",
    "- casos en los que los datos no son consistentes (el numero de tripulacion es 0, el numero de pasajeros o tripulacion es mayor al de total_a_bordo)"
   ]
  },
  {
   "cell_type": "code",
   "execution_count": 48,
   "metadata": {},
   "outputs": [],
   "source": [
    "df = df.drop(df[df['total_a_bordo'] != df['pasajeros'] +\n",
    "                    df['tripulacion']].index)"
   ]
  },
  {
   "cell_type": "markdown",
   "metadata": {},
   "source": [
    "# Columnas 'cantidad de fallecidos', 'passenger_fatalities' y 'crew_fatalities'"
   ]
  },
  {
   "cell_type": "code",
   "execution_count": 49,
   "metadata": {},
   "outputs": [
    {
     "data": {
      "text/plain": [
       "cantidad de fallecidos\n",
       "1      364\n",
       "2      363\n",
       "3      355\n",
       "4      240\n",
       "5      232\n",
       "      ... \n",
       "259      1\n",
       "144      1\n",
       "171      1\n",
       "223      1\n",
       "224      1\n",
       "Name: count, Length: 198, dtype: int64"
      ]
     },
     "execution_count": 49,
     "metadata": {},
     "output_type": "execute_result"
    }
   ],
   "source": [
    "df['cantidad de fallecidos'].value_counts()"
   ]
  },
  {
   "cell_type": "markdown",
   "metadata": {},
   "source": [
    "Corresponde al total de personas fallecidas. Deberia corresponder a la suma de las columnas 'passangers_fatalities' y 'crew_fatalities'. Utilizaremos estos datos para imputar los faltantes en caso que se pueda."
   ]
  },
  {
   "cell_type": "code",
   "execution_count": 50,
   "metadata": {},
   "outputs": [
    {
     "data": {
      "text/plain": [
       "passenger_fatalities\n",
       "0      1030\n",
       "1       298\n",
       "2       261\n",
       "3       192\n",
       "4       185\n",
       "       ... \n",
       "248       1\n",
       "172       1\n",
       "140       1\n",
       "278       1\n",
       "217       1\n",
       "Name: count, Length: 191, dtype: int64"
      ]
     },
     "execution_count": 50,
     "metadata": {},
     "output_type": "execute_result"
    }
   ],
   "source": [
    "df['passenger_fatalities'].value_counts()"
   ]
  },
  {
   "cell_type": "code",
   "execution_count": 51,
   "metadata": {},
   "outputs": [
    {
     "data": {
      "text/plain": [
       "crew_fatalities\n",
       "2     883\n",
       "3     822\n",
       "1     765\n",
       "4     590\n",
       "5     400\n",
       "0     393\n",
       "6     272\n",
       "7     170\n",
       "8     128\n",
       "9      85\n",
       "10     68\n",
       "11     41\n",
       "12     24\n",
       "14     23\n",
       "13     22\n",
       "?      18\n",
       "15     11\n",
       "17      6\n",
       "23      6\n",
       "16      5\n",
       "22      5\n",
       "19      5\n",
       "20      3\n",
       "18      3\n",
       "25      2\n",
       "21      2\n",
       "43      1\n",
       "27      1\n",
       "33      1\n",
       "Name: count, dtype: int64"
      ]
     },
     "execution_count": 51,
     "metadata": {},
     "output_type": "execute_result"
    }
   ],
   "source": [
    "df['crew_fatalities'].value_counts()"
   ]
  },
  {
   "cell_type": "code",
   "execution_count": 52,
   "metadata": {},
   "outputs": [],
   "source": [
    "df.rename(columns={'cantidad de fallecidos': 'total_fallecidos', 'crew_fatalities': 'tripulacion_fallecidos', 'passenger_fatalities': 'pasajeros_fallecidos'}, inplace= True)"
   ]
  },
  {
   "cell_type": "markdown",
   "metadata": {},
   "source": [
    "Combio los nombres de las columnas y modifico los valores '?' por NaN"
   ]
  },
  {
   "cell_type": "code",
   "execution_count": 53,
   "metadata": {},
   "outputs": [],
   "source": [
    "df['total_fallecidos'].replace('?', np.nan, inplace=True)\n",
    "df['total_fallecidos'] = pd.to_numeric(df['total_fallecidos'])\n",
    "\n",
    "df['tripulacion_fallecidos'].replace('?', np.nan, inplace=True)\n",
    "df['tripulacion_fallecidos'] = pd.to_numeric(df['tripulacion_fallecidos'])\n",
    "\n",
    "df['pasajeros_fallecidos'].replace('?', np.nan, inplace=True)\n",
    "df['pasajeros_fallecidos'] = pd.to_numeric(df['pasajeros_fallecidos'])"
   ]
  },
  {
   "cell_type": "markdown",
   "metadata": {},
   "source": [
    "Al igual que con las columnas total_a_bordo, pasajeros y tripulacion, busco incoherencias en los valores, ademas de valores faltantes: casos en que haya mas fallecidos que personas a bordo, por ejemplo."
   ]
  },
  {
   "cell_type": "code",
   "execution_count": 54,
   "metadata": {},
   "outputs": [],
   "source": [
    "df = df.drop(df[df['total_fallecidos'] != df['pasajeros_fallecidos'] +\n",
    "                df['tripulacion_fallecidos']].index)\n",
    "\n",
    "df = df.drop(df[df['pasajeros'] < df['pasajeros_fallecidos']].index)\n",
    "df = df.drop(df[df['tripulacion'] < df['tripulacion_fallecidos']].index)\n",
    "df = df.drop(df[df['tripulacion'] == 0].index)"
   ]
  },
  {
   "cell_type": "markdown",
   "metadata": {},
   "source": [
    "# Columna 'ground'"
   ]
  },
  {
   "cell_type": "code",
   "execution_count": 55,
   "metadata": {},
   "outputs": [
    {
     "data": {
      "text/plain": [
       "ground\n",
       "0       4446\n",
       "1         60\n",
       "2         34\n",
       "?         27\n",
       "3         20\n",
       "4         15\n",
       "5         11\n",
       "7          9\n",
       "8          9\n",
       "6          6\n",
       "10         5\n",
       "22         4\n",
       "11         4\n",
       "13         4\n",
       "19         4\n",
       "14         4\n",
       "44         3\n",
       "24         3\n",
       "125        2\n",
       "20         2\n",
       "12         2\n",
       "30         2\n",
       "25         2\n",
       "2750       2\n",
       "18         1\n",
       "45         1\n",
       "78         1\n",
       "50         1\n",
       "39         1\n",
       "225        1\n",
       "85         1\n",
       "47         1\n",
       "49         1\n",
       "15         1\n",
       "23         1\n",
       "9          1\n",
       "32         1\n",
       "113        1\n",
       "71         1\n",
       "33         1\n",
       "87         1\n",
       "31         1\n",
       "17         1\n",
       "29         1\n",
       "16         1\n",
       "58         1\n",
       "63         1\n",
       "35         1\n",
       "Name: count, dtype: int64"
      ]
     },
     "execution_count": 55,
     "metadata": {},
     "output_type": "execute_result"
    }
   ],
   "source": [
    "df['ground'].value_counts()"
   ]
  },
  {
   "cell_type": "markdown",
   "metadata": {},
   "source": [
    "Este dato podria referirse a la cantidad de personas que se encontraban en el area de control en tierra. Al no haber mas informacion, es dificil de determinar su utilidad."
   ]
  },
  {
   "cell_type": "markdown",
   "metadata": {},
   "source": [
    "# Columna 'summary'"
   ]
  },
  {
   "cell_type": "markdown",
   "metadata": {},
   "source": [
    "Esta columna es un resumen del evento. Posee informacion valiosa pero dificil de extraer, ya que precisariamos hacer procesamiento de lenguaje natural.\n",
    "En principio, realizaremos un primer intento de extraer palabras clave utilizando una bolsa de palabras."
   ]
  },
  {
   "cell_type": "markdown",
   "metadata": {},
   "source": [
    "Obervando los resultados entregados para la nube de palabra, decido tomar tres categorias de palabras que considero que podrian ser relevantes para el analisis:\n",
    "- Palabras relacionadas con la milicia: representarian accionar belico, no accidental, por lo que no serian relevantes para el analisis.\n",
    "- Palabras relacionadas con el clima: indicarian que el accidente estaria relacionado con las condiciones climaticas.\n",
    "- Palabras relacionadas con la pista: indicarian que el accidente estaria relacionado con el despegue o aterrizaje."
   ]
  },
  {
   "cell_type": "code",
   "execution_count": 61,
   "metadata": {},
   "outputs": [
    {
     "data": {
      "image/png": "[encoded data removed]",
      "text/plain": [
       "<Figure size 640x480 with 1 Axes>"
      ]
     },
     "metadata": {},
     "output_type": "display_data"
    }
   ],
   "source": [
    "texto = df['summary'].str.cat(sep=' ')\n",
    "\n",
    "sw = STOPWORDS.copy()\n",
    "sw.update(['crashed', 'aircraft', 'plane', 'flight', 'pilot', 'crew', 'airport'])\n",
    "wc = WordCloud(stopwords=sw)\n",
    "\n",
    "wc.generate(texto)\n",
    "plt.figure()\n",
    "plt.imshow(wc)\n",
    "plt.axis(\"off\")\n",
    "plt.show()"
   ]
  },
  {
   "cell_type": "code",
   "execution_count": 2,
   "metadata": {},
   "outputs": [],
   "source": [
    "def contiene_palabras_clave(summary, palabras_clave):\n",
    "    # defino una funcion que recibe un string (el contenido de la columna 'summary') y una lista de palabras clave,\n",
    "    # y entrega un booleano de acuerdo a si el string posee o no alguna de las palabras clave de la lista.\n",
    "    for palabra_clave in palabras_clave:\n",
    "        if palabra_clave.lower() in summary.lower():\n",
    "            return True\n",
    "\n",
    "    return False"
   ]
  },
  {
   "cell_type": "code",
   "execution_count": 55,
   "metadata": {},
   "outputs": [],
   "source": [
    "palabras_clave_militares = ['shot down', 'anti-aircraft','rifle', 'missile', 'enemy', 'soldier', 'spies', 'military']\n",
    "\n",
    "df['militares_a_borrar'] = df.apply(lambda f: contiene_palabras_clave(\n",
    "    f['summary'], palabras_clave_militares), axis=1)\n",
    "df = df.drop(df[df['militares_a_borrar'] == True].index)"
   ]
  },
  {
   "cell_type": "markdown",
   "metadata": {},
   "source": [
    "Descarto los casos que contengan palabras claves militares y creo una columna nueva para los casos que contengan palabras claves relacionadas con el clima y otra para los casos que tengas palabras clave relacionadas con la pista."
   ]
  },
  {
   "cell_type": "code",
   "execution_count": 56,
   "metadata": {},
   "outputs": [],
   "source": [
    "palabras_clave_clima = ['weather', 'fog', 'visibility', 'storm', 'rain']\n",
    "df['clima'] = df.apply(lambda f: contiene_palabras_clave(\n",
    "    f['summary'], palabras_clave_clima), axis=1)"
   ]
  },
  {
   "cell_type": "code",
   "execution_count": 57,
   "metadata": {},
   "outputs": [],
   "source": [
    "palabras_clave_pista = ['take off', 'take-off', 'takeoff', 'landing', 'approach', 'runway', 'taxi']\n",
    "df['pista'] = df.apply(lambda f: contiene_palabras_clave(\n",
    "    f['summary'], palabras_clave_pista), axis=1)"
   ]
  },
  {
   "cell_type": "markdown",
   "metadata": {},
   "source": [
    "# Análisis de las variables numéricas"
   ]
  },
  {
   "cell_type": "code",
   "execution_count": 58,
   "metadata": {},
   "outputs": [
    {
     "data": {
      "text/html": [
       "<div>\n",
       "<style scoped>\n",
       "    .dataframe tbody tr th:only-of-type {\n",
       "        vertical-align: middle;\n",
       "    }\n",
       "\n",
       "    .dataframe tbody tr th {\n",
       "        vertical-align: top;\n",
       "    }\n",
       "\n",
       "    .dataframe thead th {\n",
       "        text-align: right;\n",
       "    }\n",
       "</style>\n",
       "<table border=\"1\" class=\"dataframe\">\n",
       "  <thead>\n",
       "    <tr style=\"text-align: right;\">\n",
       "      <th></th>\n",
       "      <th>total_a_bordo</th>\n",
       "      <th>pasajeros</th>\n",
       "      <th>tripulacion</th>\n",
       "      <th>total_fallecidos</th>\n",
       "      <th>pasajeros_fallecidos</th>\n",
       "      <th>tripulacion_fallecidos</th>\n",
       "    </tr>\n",
       "  </thead>\n",
       "  <tbody>\n",
       "    <tr>\n",
       "      <th>count</th>\n",
       "      <td>4497.000000</td>\n",
       "      <td>4497.000000</td>\n",
       "      <td>4497.000000</td>\n",
       "      <td>4497.000000</td>\n",
       "      <td>4497.000000</td>\n",
       "      <td>4497.000000</td>\n",
       "    </tr>\n",
       "    <tr>\n",
       "      <th>mean</th>\n",
       "      <td>30.891038</td>\n",
       "      <td>26.433400</td>\n",
       "      <td>4.457638</td>\n",
       "      <td>21.894596</td>\n",
       "      <td>18.373138</td>\n",
       "      <td>3.521459</td>\n",
       "    </tr>\n",
       "    <tr>\n",
       "      <th>std</th>\n",
       "      <td>45.253794</td>\n",
       "      <td>43.264416</td>\n",
       "      <td>3.705525</td>\n",
       "      <td>34.796472</td>\n",
       "      <td>33.110183</td>\n",
       "      <td>3.123289</td>\n",
       "    </tr>\n",
       "    <tr>\n",
       "      <th>min</th>\n",
       "      <td>1.000000</td>\n",
       "      <td>0.000000</td>\n",
       "      <td>1.000000</td>\n",
       "      <td>0.000000</td>\n",
       "      <td>0.000000</td>\n",
       "      <td>0.000000</td>\n",
       "    </tr>\n",
       "    <tr>\n",
       "      <th>25%</th>\n",
       "      <td>6.000000</td>\n",
       "      <td>3.000000</td>\n",
       "      <td>2.000000</td>\n",
       "      <td>3.000000</td>\n",
       "      <td>1.000000</td>\n",
       "      <td>1.000000</td>\n",
       "    </tr>\n",
       "    <tr>\n",
       "      <th>50%</th>\n",
       "      <td>16.000000</td>\n",
       "      <td>12.000000</td>\n",
       "      <td>4.000000</td>\n",
       "      <td>10.000000</td>\n",
       "      <td>7.000000</td>\n",
       "      <td>3.000000</td>\n",
       "    </tr>\n",
       "    <tr>\n",
       "      <th>75%</th>\n",
       "      <td>35.000000</td>\n",
       "      <td>30.000000</td>\n",
       "      <td>6.000000</td>\n",
       "      <td>25.000000</td>\n",
       "      <td>21.000000</td>\n",
       "      <td>5.000000</td>\n",
       "    </tr>\n",
       "    <tr>\n",
       "      <th>max</th>\n",
       "      <td>644.000000</td>\n",
       "      <td>614.000000</td>\n",
       "      <td>83.000000</td>\n",
       "      <td>583.000000</td>\n",
       "      <td>560.000000</td>\n",
       "      <td>43.000000</td>\n",
       "    </tr>\n",
       "  </tbody>\n",
       "</table>\n",
       "</div>"
      ],
      "text/plain": [
       "       total_a_bordo    pasajeros  tripulacion  total_fallecidos  \\\n",
       "count    4497.000000  4497.000000  4497.000000       4497.000000   \n",
       "mean       30.891038    26.433400     4.457638         21.894596   \n",
       "std        45.253794    43.264416     3.705525         34.796472   \n",
       "min         1.000000     0.000000     1.000000          0.000000   \n",
       "25%         6.000000     3.000000     2.000000          3.000000   \n",
       "50%        16.000000    12.000000     4.000000         10.000000   \n",
       "75%        35.000000    30.000000     6.000000         25.000000   \n",
       "max       644.000000   614.000000    83.000000        583.000000   \n",
       "\n",
       "       pasajeros_fallecidos  tripulacion_fallecidos  \n",
       "count           4497.000000             4497.000000  \n",
       "mean              18.373138                3.521459  \n",
       "std               33.110183                3.123289  \n",
       "min                0.000000                0.000000  \n",
       "25%                1.000000                1.000000  \n",
       "50%                7.000000                3.000000  \n",
       "75%               21.000000                5.000000  \n",
       "max              560.000000               43.000000  "
      ]
     },
     "execution_count": 58,
     "metadata": {},
     "output_type": "execute_result"
    }
   ],
   "source": [
    "df[['total_a_bordo', 'pasajeros', 'tripulacion', 'total_fallecidos', 'pasajeros_fallecidos', 'tripulacion_fallecidos']].describe()"
   ]
  },
  {
   "cell_type": "markdown",
   "metadata": {},
   "source": [
    "De un analisis general de las variables numericas, se puede observar que en las que refieren a pasajeros tienen alto desvio estandar mientras que en las que refieren a tripulacion, es bajo. Esto tiene sentido, ya que las aeronaves pueden tener numero muy variable de pasajeros. De esta manera, observamos que el 50% de los casos registran menos de 12 pasajeros y el 75% menos de 30 pasajeros, mientras que el maximo registrado es de 614. Tal vez tendria sentido categorizar los vuelos de acuerdo a la cantidad de pasajeros registrada."
   ]
  },
  {
   "cell_type": "code",
   "execution_count": 59,
   "metadata": {},
   "outputs": [
    {
     "data": {
      "text/plain": [
       "4497"
      ]
     },
     "execution_count": 59,
     "metadata": {},
     "output_type": "execute_result"
    },
    {
     "data": {
      "image/png": "[encoded data removed]",
      "text/plain": [
       "<Figure size 640x480 with 1 Axes>"
      ]
     },
     "metadata": {},
     "output_type": "display_data"
    }
   ],
   "source": [
    "df.hist('pasajeros')\n",
    "len(df)"
   ]
  },
  {
   "cell_type": "markdown",
   "metadata": {},
   "source": [
    "El histograma de la variable del numero de pasajeros se ve muy desvalanceado, confirmando lo visto en el analisis general.\n",
    "Voy a realizar dos histogramas mas filtrar los resultados para los casos con mas de 200 pasajeros y otro con los casos con menos de 50 pasajeros para observar mas de cerca."
   ]
  },
  {
   "cell_type": "code",
   "execution_count": 60,
   "metadata": {},
   "outputs": [
    {
     "data": {
      "text/plain": [
       "array([[<Axes: title={'center': 'total_a_bordo'}>]], dtype=object)"
      ]
     },
     "execution_count": 60,
     "metadata": {},
     "output_type": "execute_result"
    },
    {
     "data": {
      "image/png": "[encoded data removed]",
      "text/plain": [
       "<Figure size 640x480 with 1 Axes>"
      ]
     },
     "metadata": {},
     "output_type": "display_data"
    }
   ],
   "source": [
    "df.where(df['pasajeros'] > 200).hist('total_a_bordo')"
   ]
  },
  {
   "cell_type": "code",
   "execution_count": 61,
   "metadata": {},
   "outputs": [
    {
     "data": {
      "text/plain": [
       "array([[<Axes: title={'center': 'total_a_bordo'}>]], dtype=object)"
      ]
     },
     "execution_count": 61,
     "metadata": {},
     "output_type": "execute_result"
    },
    {
     "data": {
      "image/png": "[encoded data removed]",
      "text/plain": [
       "<Figure size 640x480 with 1 Axes>"
      ]
     },
     "metadata": {},
     "output_type": "display_data"
    }
   ],
   "source": [
    "df.where(df['pasajeros'] <= 50).hist('total_a_bordo')"
   ]
  },
  {
   "cell_type": "code",
   "execution_count": 62,
   "metadata": {},
   "outputs": [
    {
     "data": {
      "image/png": "[encoded data removed]",
      "text/plain": [
       "<Figure size 640x480 with 1 Axes>"
      ]
     },
     "metadata": {},
     "output_type": "display_data"
    }
   ],
   "source": [
    "sns.boxplot(data=df['pasajeros'])\n",
    "plt.show()"
   ]
  },
  {
   "cell_type": "markdown",
   "metadata": {},
   "source": [
    "El boxplot y los histogramas de la cantidad de pasajeros confirman lo observado en la vision general. El numero de pasajeros es muy disperso y clasifica como outliers a muchos datos que son de interes. teniendo en cuenta los datos de mediana y cuartiles, crearemos una columna con un sistema de clasificacion por numero de pasajeros."
   ]
  },
  {
   "cell_type": "code",
   "execution_count": 63,
   "metadata": {},
   "outputs": [],
   "source": [
    "def clasif_pasajeros(nro_pasajeros):\n",
    "    if nro_pasajeros <= 3:\n",
    "        clasificacion = '3 o menos'\n",
    "    elif nro_pasajeros <= 12:\n",
    "        clasificacion = 'entre 3 y 12'\n",
    "    elif nro_pasajeros <= 30:\n",
    "        clasificacion = 'entre 12 y 30'\n",
    "    elif nro_pasajeros <= 100:\n",
    "        clasificacion = 'entre 30 y 100'\n",
    "    else:\n",
    "        clasificacion = 'mas de 100'\n",
    "    \n",
    "    return clasificacion"
   ]
  },
  {
   "cell_type": "code",
   "execution_count": 64,
   "metadata": {},
   "outputs": [],
   "source": [
    "df['clasif_pasajeros'] = df.apply(lambda f: clasif_pasajeros(f['pasajeros']), axis=1)"
   ]
  },
  {
   "cell_type": "code",
   "execution_count": 65,
   "metadata": {},
   "outputs": [
    {
     "data": {
      "text/plain": [
       "array([[<Axes: title={'center': 'año'}>]], dtype=object)"
      ]
     },
     "execution_count": 65,
     "metadata": {},
     "output_type": "execute_result"
    },
    {
     "data": {
      "image/png": "[encoded data removed]",
      "text/plain": [
       "<Figure size 640x480 with 1 Axes>"
      ]
     },
     "metadata": {},
     "output_type": "display_data"
    }
   ],
   "source": [
    "df.hist(['año'])"
   ]
  },
  {
   "cell_type": "markdown",
   "metadata": {},
   "source": [
    "En cuanto a la distribucion por año, observamos que los casos estan mas concentrados entre las decadas de 1940 y 2010, habiendo una cantidad mas o menos relevante y equivalente para cada una de esas decadas."
   ]
  },
  {
   "cell_type": "code",
   "execution_count": 66,
   "metadata": {},
   "outputs": [
    {
     "data": {
      "text/plain": [
       "array([[<Axes: title={'center': 'tripulacion'}>]], dtype=object)"
      ]
     },
     "execution_count": 66,
     "metadata": {},
     "output_type": "execute_result"
    },
    {
     "data": {
      "image/png": "[encoded data removed]",
      "text/plain": [
       "<Figure size 640x480 with 1 Axes>"
      ]
     },
     "metadata": {},
     "output_type": "display_data"
    }
   ],
   "source": [
    "df.hist('tripulacion')"
   ]
  },
  {
   "cell_type": "code",
   "execution_count": 67,
   "metadata": {},
   "outputs": [
    {
     "data": {
      "image/png": "[encoded data removed]",
      "text/plain": [
       "<Figure size 640x480 with 1 Axes>"
      ]
     },
     "metadata": {},
     "output_type": "display_data"
    }
   ],
   "source": [
    "sns.boxplot(data=df['tripulacion'])\n",
    "plt.show()"
   ]
  },
  {
   "cell_type": "markdown",
   "metadata": {},
   "source": [
    "Similar a lo que ocurre con el numero de pasajeros, vemos que el numero de personas en la tripulacion esta mas fuertemente concentrado en los valores mas bajos. Pero, al ser los maximos mucho menores que los maximos de la columna pasajeros, el desvio estandar es considerablemente menor.\n",
    "\n",
    "En todo caso, los valores absolutos tanto de tripulacion como de pasajeros brindan informacion incompleta, y tambien me interesaria ver la proporcion que representan respecto al numero de fallecidos. Por lo que creo las columnas:\n",
    "- porcentaje de la tripulacion fallecidos: relacion entre numero de personas fallecidas de la tripulacion y numero total de tripulacion\n",
    "- porcentaje de pasajeros fallecidos: relacion entre el numero de pasajeros fallecidos y numero total de pasajeros a bordo\n",
    "- porcentaje total de fallecidos: relacion entre el numero total de personas fallecidas y el numero de personas a bordo\n",
    "- relacion entre tripulacion y total: relacion entre el numero de personas de la tripulacion y el numero total de personas a bordo."
   ]
  },
  {
   "cell_type": "code",
   "execution_count": 68,
   "metadata": {},
   "outputs": [],
   "source": [
    "df['porc_tripulacion_fallecidos'] = df.apply(lambda f: f['tripulacion_fallecidos'] / f['tripulacion'], axis=1)\n",
    "df['porc_pasajeros_fallecidos'] = df.apply(lambda f: f['pasajeros_fallecidos'] / f['pasajeros'] if f['pasajeros'] > 0 else np.nan, axis=1)\n",
    "df['porc_total_fallecidos'] = df.apply(lambda f: f['total_fallecidos'] / f['total_a_bordo'], axis=1)\n",
    "df['relacion_tripulacion_total'] = df.apply(lambda f: f['tripulacion'] / f['total_a_bordo'], axis=1)"
   ]
  },
  {
   "cell_type": "markdown",
   "metadata": {},
   "source": [
    "Procedo a guardar las modificaciones realizadas en un CSV, exportando solo las columnas de interes.\n",
    "Por otro lado, voy a crear un script de python solo con las lineas de codigo que representaron modificaciones a la base de datos original, para tener los pasos en limpio por fuera del analisis."
   ]
  },
  {
   "cell_type": "code",
   "execution_count": 70,
   "metadata": {},
   "outputs": [],
   "source": [
    "df = df[[\n",
    "    'id', 'año', 'decada', 'total_a_bordo', 'clasif_pasajeros', \n",
    "    'porc_tripulacion_fallecidos', 'porc_pasajeros_fallecidos',\n",
    "    'porc_total_fallecidos', 'relacion_tripulacion_total', 'total_fallecidos', 'tripulacion_fallecidos', 'pasajeros_fallecidos',\n",
    "    'pasajeros', 'tripulacion', 'clima', 'pista'\n",
    "]]"
   ]
  },
  {
   "cell_type": "code",
   "execution_count": 71,
   "metadata": {},
   "outputs": [],
   "source": [
    "df.to_csv('procesado.csv')"
   ]
  }
 ],
 "metadata": {
  "kernelspec": {
   "display_name": "Python 3",
   "language": "python",
   "name": "python3"
  },
  "language_info": {
   "codemirror_mode": {
    "name": "ipython",
    "version": 3
   },
   "file_extension": ".py",
   "mimetype": "text/x-python",
   "name": "python",
   "nbconvert_exporter": "python",
   "pygments_lexer": "ipython3",
   "version": "3.8.10"
  },
  "orig_nbformat": 4
 },
 "nbformat": 4,
 "nbformat_minor": 2
}
